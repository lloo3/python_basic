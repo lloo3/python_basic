{
 "cells": [
  {
   "cell_type": "markdown",
   "id": "b22605f2-15d9-4b87-ae00-55419330ee0c",
   "metadata": {},
   "source": [
    "### 날짜,random 표준 라이브러리"
   ]
  },
  {
   "cell_type": "code",
   "execution_count": 3,
   "id": "bfcf989e-0e3e-4230-b214-a3a282f722c2",
   "metadata": {},
   "outputs": [],
   "source": [
    " import datetime\n",
    "\n",
    "day1= datetime.date(2025,9,1)\n",
    "day2= datetime.date(2026,4,5)"
   ]
  },
  {
   "cell_type": "code",
   "execution_count": 4,
   "id": "178fa5fa-c282-4006-a11a-b51a1dc5516f",
   "metadata": {},
   "outputs": [
    {
     "name": "stdout",
     "output_type": "stream",
     "text": [
      "216 days, 0:00:00\n"
     ]
    }
   ],
   "source": [
    "diff =day2 -day1\n",
    "print(diff)"
   ]
  },
  {
   "cell_type": "code",
   "execution_count": 5,
   "id": "5e973b5c-007c-49ca-bb52-f60c1b903c9b",
   "metadata": {},
   "outputs": [
    {
     "data": {
      "text/plain": [
       "216"
      ]
     },
     "execution_count": 5,
     "metadata": {},
     "output_type": "execute_result"
    }
   ],
   "source": [
    "diff.days"
   ]
  },
  {
   "cell_type": "code",
   "execution_count": 6,
   "id": "7252c358-4973-4b42-b131-10d0d6c5ebce",
   "metadata": {},
   "outputs": [
    {
     "data": {
      "text/plain": [
       "0"
      ]
     },
     "execution_count": 6,
     "metadata": {},
     "output_type": "execute_result"
    }
   ],
   "source": [
    "day1.weekday() #요일을 알수 있음"
   ]
  },
  {
   "cell_type": "code",
   "execution_count": 8,
   "id": "89a62f92-8b20-4c4a-81c8-47aa03a91274",
   "metadata": {},
   "outputs": [
    {
     "data": {
      "text/plain": [
       "6"
      ]
     },
     "execution_count": 8,
     "metadata": {},
     "output_type": "execute_result"
    }
   ],
   "source": [
    "day2.weekday()"
   ]
  },
  {
   "cell_type": "code",
   "execution_count": 10,
   "id": "473a7e16-b2c8-4891-a358-4dfd36a773a2",
   "metadata": {},
   "outputs": [
    {
     "data": {
      "text/plain": [
       "1"
      ]
     },
     "execution_count": 10,
     "metadata": {},
     "output_type": "execute_result"
    }
   ],
   "source": [
    "day1.isoweekday() #월요일 1~일요일 7"
   ]
  },
  {
   "cell_type": "code",
   "execution_count": 12,
   "id": "b9a2789d-c56f-46dd-850a-4275371bcd69",
   "metadata": {},
   "outputs": [
    {
     "data": {
      "text/plain": [
       "datetime.date(2025, 9, 1)"
      ]
     },
     "execution_count": 12,
     "metadata": {},
     "output_type": "execute_result"
    }
   ],
   "source": [
    "today=datetime.date.today()\n",
    "today"
   ]
  },
  {
   "cell_type": "code",
   "execution_count": 13,
   "id": "f394c168-c5bd-4ca4-9d2f-241d18181d44",
   "metadata": {},
   "outputs": [
    {
     "data": {
      "text/plain": [
       "1756688793.7597876"
      ]
     },
     "execution_count": 13,
     "metadata": {},
     "output_type": "execute_result"
    }
   ],
   "source": [
    "# time 객체\n",
    "import time\n",
    "\n",
    "time.time()"
   ]
  },
  {
   "cell_type": "code",
   "execution_count": 14,
   "id": "17b47411-5a76-45f8-9a82-60b50a2ad526",
   "metadata": {},
   "outputs": [
    {
     "data": {
      "text/plain": [
       "<function time.localtime>"
      ]
     },
     "execution_count": 14,
     "metadata": {},
     "output_type": "execute_result"
    }
   ],
   "source": [
    "time.localtime"
   ]
  },
  {
   "cell_type": "code",
   "execution_count": 15,
   "id": "d8734453-fefe-408d-aa85-e654f3978d5e",
   "metadata": {},
   "outputs": [
    {
     "data": {
      "text/plain": [
       "'Mon Sep  1 10:08:34 2025'"
      ]
     },
     "execution_count": 15,
     "metadata": {},
     "output_type": "execute_result"
    }
   ],
   "source": [
    "time.asctime(time.localtime(time.time()))"
   ]
  },
  {
   "cell_type": "code",
   "execution_count": 16,
   "id": "9143593b-0358-4b21-998f-a8635e116a4d",
   "metadata": {},
   "outputs": [
    {
     "data": {
      "text/plain": [
       "<function time.strftime>"
      ]
     },
     "execution_count": 16,
     "metadata": {},
     "output_type": "execute_result"
    }
   ],
   "source": [
    "time.strftime"
   ]
  },
  {
   "cell_type": "code",
   "execution_count": 17,
   "id": "cd8a7f2d-d626-46a4-b840-c2856de20ce3",
   "metadata": {},
   "outputs": [
    {
     "ename": "SyntaxError",
     "evalue": "unmatched ')' (1256502357.py, line 1)",
     "output_type": "error",
     "traceback": [
      "\u001b[1;36m  Cell \u001b[1;32mIn[17], line 1\u001b[1;36m\u001b[0m\n\u001b[1;33m    time.localtime(time.time()))\u001b[0m\n\u001b[1;37m                               ^\u001b[0m\n\u001b[1;31mSyntaxError\u001b[0m\u001b[1;31m:\u001b[0m unmatched ')'\n"
     ]
    }
   ],
   "source": [
    "time.localtime(time.time()))"
   ]
  },
  {
   "cell_type": "code",
   "execution_count": 18,
   "id": "96a2b683-0634-44ba-9d93-2d111ecd2ec9",
   "metadata": {},
   "outputs": [
    {
     "ename": "SyntaxError",
     "evalue": "invalid syntax (3833154967.py, line 1)",
     "output_type": "error",
     "traceback": [
      "\u001b[1;36m  Cell \u001b[1;32mIn[18], line 1\u001b[1;36m\u001b[0m\n\u001b[1;33m    time.strftime('%x',time.localtime(time.time()))'03/25/24'\u001b[0m\n\u001b[1;37m                                                   ^\u001b[0m\n\u001b[1;31mSyntaxError\u001b[0m\u001b[1;31m:\u001b[0m invalid syntax\n"
     ]
    }
   ],
   "source": [
    "time.strftime('%x',time.localtime(time.time()))'03/25/24'"
   ]
  },
  {
   "cell_type": "code",
   "execution_count": 19,
   "id": "1ac62a3d-476f-45c9-8a08-dfb6b8694c3c",
   "metadata": {},
   "outputs": [
    {
     "data": {
      "text/plain": [
       "'09/01/25'"
      ]
     },
     "execution_count": 19,
     "metadata": {},
     "output_type": "execute_result"
    }
   ],
   "source": [
    "time.strftime('%x',time.localtime(time.time()))"
   ]
  },
  {
   "cell_type": "code",
   "execution_count": 20,
   "id": "540e46c1-d285-421c-9fc1-3867ae9f73a5",
   "metadata": {},
   "outputs": [
    {
     "data": {
      "text/plain": [
       "'Mon Sep  1 10:33:46 2025'"
      ]
     },
     "execution_count": 20,
     "metadata": {},
     "output_type": "execute_result"
    }
   ],
   "source": [
    "time.strftime('%c', time.localtime(time.time()))"
   ]
  },
  {
   "cell_type": "code",
   "execution_count": 22,
   "id": "a2c2c03e-2366-4302-9d35-30e7400de90d",
   "metadata": {},
   "outputs": [
    {
     "name": "stdout",
     "output_type": "stream",
     "text": [
      "0\n",
      "1\n",
      "2\n",
      "3\n",
      "4\n",
      "5\n",
      "6\n",
      "7\n",
      "8\n",
      "9\n"
     ]
    }
   ],
   "source": [
    "import time\n",
    "for i in range(10):\n",
    "    print(i)\n",
    "    time.sleep(1)"
   ]
  },
  {
   "cell_type": "code",
   "execution_count": 23,
   "id": "4db05fda-c2c0-43e4-8ea2-7bdb422dfcdb",
   "metadata": {},
   "outputs": [
    {
     "data": {
      "text/plain": [
       "time.struct_time(tm_year=2025, tm_mon=9, tm_mday=1, tm_hour=10, tm_min=34, tm_sec=41, tm_wday=0, tm_yday=244, tm_isdst=0)"
      ]
     },
     "execution_count": 23,
     "metadata": {},
     "output_type": "execute_result"
    }
   ],
   "source": [
    "time.localtime()"
   ]
  },
  {
   "cell_type": "code",
   "execution_count": 24,
   "id": "8fefe17d-2e43-4128-b273-95d9af073847",
   "metadata": {},
   "outputs": [
    {
     "data": {
      "text/plain": [
       "'Mon Sep  1 10:34:46 2025'"
      ]
     },
     "execution_count": 24,
     "metadata": {},
     "output_type": "execute_result"
    }
   ],
   "source": [
    " time.asctime()"
   ]
  },
  {
   "cell_type": "code",
   "execution_count": 25,
   "id": "accb997c-bb6d-4b4e-a9db-9f9b9c6d11b3",
   "metadata": {},
   "outputs": [
    {
     "data": {
      "text/plain": [
       "'Mon Sep  1 10:34:50 2025'"
      ]
     },
     "execution_count": 25,
     "metadata": {},
     "output_type": "execute_result"
    }
   ],
   "source": [
    "time.strftime('%c')"
   ]
  },
  {
   "cell_type": "code",
   "execution_count": 26,
   "id": "a6678adf-4415-4851-9275-997f688aecee",
   "metadata": {},
   "outputs": [],
   "source": [
    "import random"
   ]
  },
  {
   "cell_type": "code",
   "execution_count": 27,
   "id": "8e4b08d6-de14-4c22-9471-6edbeab43083",
   "metadata": {},
   "outputs": [
    {
     "data": {
      "text/plain": [
       "0.10325332490176453"
      ]
     },
     "execution_count": 27,
     "metadata": {},
     "output_type": "execute_result"
    }
   ],
   "source": [
    "random.random()"
   ]
  },
  {
   "cell_type": "code",
   "execution_count": 28,
   "id": "3e3d2c49-23ec-4365-8810-b1b73fa2a92a",
   "metadata": {},
   "outputs": [
    {
     "data": {
      "text/plain": [
       "8"
      ]
     },
     "execution_count": 28,
     "metadata": {},
     "output_type": "execute_result"
    }
   ],
   "source": [
    "random.randint(1, 10)"
   ]
  },
  {
   "cell_type": "code",
   "execution_count": 29,
   "id": "8d2be3ec-5839-4a21-bb63-437c80f84e98",
   "metadata": {},
   "outputs": [
    {
     "data": {
      "text/plain": [
       "25"
      ]
     },
     "execution_count": 29,
     "metadata": {},
     "output_type": "execute_result"
    }
   ],
   "source": [
    "random.randint(1, 55)"
   ]
  },
  {
   "cell_type": "code",
   "execution_count": 39,
   "id": "efc4565f-53c0-4732-bd8c-35b3879bdf21",
   "metadata": {},
   "outputs": [
    {
     "name": "stdout",
     "output_type": "stream",
     "text": [
      "4\n",
      "5\n",
      "3\n",
      "1\n",
      "2\n"
     ]
    }
   ],
   "source": [
    "import random\n",
    "def random_pop(data):\n",
    "    num = random.randint(0,len(data)-1)\n",
    "    return data.pop(num)\n",
    "data = [1,2,3,4,5]\n",
    "while data:\n",
    "    print(random_pop(data))"
   ]
  },
  {
   "cell_type": "code",
   "execution_count": 40,
   "id": "7c6a5dd1-dbe1-4269-9671-01cc2b8bad61",
   "metadata": {},
   "outputs": [
    {
     "ename": "SyntaxError",
     "evalue": "unexpected character after line continuation character (348332376.py, line 1)",
     "output_type": "error",
     "traceback": [
      "\u001b[1;36m  Cell \u001b[1;32mIn[40], line 1\u001b[1;36m\u001b[0m\n\u001b[1;33m    C:\\Users\\Documents\\python_ex>python random_pop.py\u001b[0m\n\u001b[1;37m       ^\u001b[0m\n\u001b[1;31mSyntaxError\u001b[0m\u001b[1;31m:\u001b[0m unexpected character after line continuation character\n"
     ]
    }
   ],
   "source": [
    "C:\\Users\\Documents\\python_ex>python random_pop.py"
   ]
  },
  {
   "cell_type": "code",
   "execution_count": 41,
   "id": "618754cc-cab7-46a1-a629-cbb76573842e",
   "metadata": {},
   "outputs": [
    {
     "ename": "SyntaxError",
     "evalue": "unexpected character after line continuation character (348332376.py, line 1)",
     "output_type": "error",
     "traceback": [
      "\u001b[1;36m  Cell \u001b[1;32mIn[41], line 1\u001b[1;36m\u001b[0m\n\u001b[1;33m    C:\\Users\\Documents\\python_ex>python random_pop.py\u001b[0m\n\u001b[1;37m       ^\u001b[0m\n\u001b[1;31mSyntaxError\u001b[0m\u001b[1;31m:\u001b[0m unexpected character after line continuation character\n"
     ]
    }
   ],
   "source": [
    "C:\\Users\\Documents\\python_ex>python random_pop.py"
   ]
  },
  {
   "cell_type": "code",
   "execution_count": 44,
   "id": "d02ce128-8dc9-415d-aacf-4d5af7beb373",
   "metadata": {},
   "outputs": [
    {
     "ename": "IndentationError",
     "evalue": "unexpected indent (3979784672.py, line 3)",
     "output_type": "error",
     "traceback": [
      "\u001b[1;36m  Cell \u001b[1;32mIn[44], line 3\u001b[1;36m\u001b[0m\n\u001b[1;33m    data.remove(num)\u001b[0m\n\u001b[1;37m    ^\u001b[0m\n\u001b[1;31mIndentationError\u001b[0m\u001b[1;31m:\u001b[0m unexpected indent\n"
     ]
    }
   ],
   "source": [
    "def random_pop(data):\n",
    "    num = random.choice(data)\n",
    "      data.remove(num)\n",
    "        return num"
   ]
  },
  {
   "cell_type": "code",
   "execution_count": 45,
   "id": "7dc99708-e2ab-48c6-882a-4c548d32669f",
   "metadata": {},
   "outputs": [],
   "source": [
    "import random"
   ]
  },
  {
   "cell_type": "code",
   "execution_count": 46,
   "id": "ecc0ddb8-2274-454c-8b28-c748ec225f57",
   "metadata": {},
   "outputs": [],
   "source": [
    "data = [1, 2, 3, 4, 5]"
   ]
  },
  {
   "cell_type": "code",
   "execution_count": 47,
   "id": "10d06b5e-972e-4b1e-845e-7cdf42d802ee",
   "metadata": {},
   "outputs": [
    {
     "data": {
      "text/plain": [
       "[3, 2, 1, 4, 5]"
      ]
     },
     "execution_count": 47,
     "metadata": {},
     "output_type": "execute_result"
    }
   ],
   "source": [
    "random.sample(data, len(data))"
   ]
  },
  {
   "cell_type": "markdown",
   "id": "9ccbf76a-e985-4dfe-9ed3-d64de88a4ffa",
   "metadata": {},
   "source": [
    "### pickle 표준 라이브러리"
   ]
  },
  {
   "cell_type": "code",
   "execution_count": 48,
   "id": "5dcc5716-52db-4e92-b34c-5c54168b3108",
   "metadata": {},
   "outputs": [],
   "source": [
    "import pickle\n",
    "\n",
    "f=open('test.txt','wb')\n",
    "data={1:'python',2:'you need'}\n",
    "pickle.dump(data,f)\n",
    "f.close()"
   ]
  },
  {
   "cell_type": "code",
   "execution_count": 50,
   "id": "f65c8e31-820a-4252-a091-5b7ccf5b345d",
   "metadata": {},
   "outputs": [
    {
     "name": "stdout",
     "output_type": "stream",
     "text": [
      "{1: 'python', 2: 'you need'}\n"
     ]
    }
   ],
   "source": [
    "f=open('test.txt','rb')\n",
    "content = pickle.load(f)\n",
    "print(content)\n",
    "f.close()"
   ]
  },
  {
   "cell_type": "markdown",
   "id": "46c51567-f9f0-4fde-9586-e001fea2e957",
   "metadata": {},
   "source": [
    "# 정규 표현식"
   ]
  },
  {
   "cell_type": "markdown",
   "id": "1ef400ae-35b8-4b90-93f5-d82335fe7e4d",
   "metadata": {},
   "source": [
    "### 정규 표현식 함수"
   ]
  },
  {
   "cell_type": "code",
   "execution_count": 53,
   "id": "1d2cbe78-37d8-4771-aebd-81714a4f02cc",
   "metadata": {},
   "outputs": [
    {
     "name": "stdout",
     "output_type": "stream",
     "text": [
      "123\n"
     ]
    }
   ],
   "source": [
    "# match() : 문자열의 처음부터 정규식과 매치되는지 확인\n",
    "\n",
    "import re\n",
    "\n",
    "pattern=re.compile(r'\\d+')\n",
    "match=pattern.match('123abc')\n",
    "if match:\n",
    "    print(match.group())"
   ]
  },
  {
   "cell_type": "code",
   "execution_count": 54,
   "id": "f1ab5190-2726-4d28-9532-8aa315455db2",
   "metadata": {},
   "outputs": [
    {
     "name": "stdout",
     "output_type": "stream",
     "text": [
      "123\n"
     ]
    }
   ],
   "source": [
    "# search() : 문자열 전체를 검색하여 정규식과 매치되는지 확인\n",
    "\n",
    "pattern = re.compile(r'\\d+')\n",
    "match = pattern.search('abc123')\n",
    "if match:\n",
    "    print(match.group())"
   ]
  },
  {
   "cell_type": "code",
   "execution_count": 55,
   "id": "ae80886f-8e43-41da-ba5a-9db750152366",
   "metadata": {},
   "outputs": [
    {
     "name": "stdout",
     "output_type": "stream",
     "text": [
      "['123', '456']\n"
     ]
    }
   ],
   "source": [
    "# findall() : 정규식과 매치되는 모든 부분을 리스트로 반환\n",
    "\n",
    "pattern = re.compile(r'\\d+')\n",
    "matches = pattern.findall('abc123def456')\n",
    "print(matches)"
   ]
  },
  {
   "cell_type": "code",
   "execution_count": 57,
   "id": "72c86cab-bc75-48f4-95d3-c69a9ff01cea",
   "metadata": {},
   "outputs": [
    {
     "name": "stdout",
     "output_type": "stream",
     "text": [
      "['abc', 'def']\n"
     ]
    }
   ],
   "source": [
    "pattern =re.compile(r'\\D+')\n",
    "matches = pattern.findall('123abc456def')\n",
    "print(matches)"
   ]
  },
  {
   "cell_type": "code",
   "execution_count": 58,
   "id": "ab983f92-6bf8-465d-bb61-47b68ea2492d",
   "metadata": {},
   "outputs": [
    {
     "name": "stdout",
     "output_type": "stream",
     "text": [
      "abcNUMBERdefNUMBER\n"
     ]
    }
   ],
   "source": [
    "# sub() : 정규식과 매치되는 부분을 다른 문자열로 대체\n",
    "\n",
    "pattern = re.compile(r'\\d+')\n",
    "result = pattern.sub('NUMBER', 'abc123def456')\n",
    "print(result)"
   ]
  },
  {
   "cell_type": "code",
   "execution_count": null,
   "id": "a7c3978c-04e8-4b72-9c66-73981bd488a4",
   "metadata": {},
   "outputs": [],
   "source": []
  }
 ],
 "metadata": {
  "kernelspec": {
   "display_name": "Python 3 (ipykernel)",
   "language": "python",
   "name": "python3"
  },
  "language_info": {
   "codemirror_mode": {
    "name": "ipython",
    "version": 3
   },
   "file_extension": ".py",
   "mimetype": "text/x-python",
   "name": "python",
   "nbconvert_exporter": "python",
   "pygments_lexer": "ipython3",
   "version": "3.13.5"
  }
 },
 "nbformat": 4,
 "nbformat_minor": 5
}
