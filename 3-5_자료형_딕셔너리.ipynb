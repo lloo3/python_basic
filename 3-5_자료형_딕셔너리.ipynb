{
 "cells": [
  {
   "cell_type": "markdown",
   "id": "c6f4210c-b628-48a5-848d-6f87c1ff18ad",
   "metadata": {},
   "source": [
    "## 2. 딕셔너리는 어떻게 만들까?"
   ]
  },
  {
   "cell_type": "code",
   "execution_count": 2,
   "id": "d089ac4c-7dea-43cb-8991-c7af4d244dee",
   "metadata": {},
   "outputs": [
    {
     "data": {
      "text/plain": [
       "dict"
      ]
     },
     "execution_count": 2,
     "metadata": {},
     "output_type": "execute_result"
    }
   ],
   "source": [
    "dic={'name':'cjw','phone':'010-3333-3333','birth':'1111'}\n",
    "type(dic)"
   ]
  },
  {
   "cell_type": "code",
   "execution_count": 3,
   "id": "540b7e2c-072e-4285-be94-e9797059f66c",
   "metadata": {},
   "outputs": [
    {
     "data": {
      "text/plain": [
       "'cjw'"
      ]
     },
     "execution_count": 3,
     "metadata": {},
     "output_type": "execute_result"
    }
   ],
   "source": [
    "dic['name']"
   ]
  },
  {
   "cell_type": "code",
   "execution_count": 4,
   "id": "dde33cb7-8877-4229-b443-e1323556deb5",
   "metadata": {},
   "outputs": [
    {
     "data": {
      "text/plain": [
       "'010-3333-3333'"
      ]
     },
     "execution_count": 4,
     "metadata": {},
     "output_type": "execute_result"
    }
   ],
   "source": [
    "dic['phone']"
   ]
  },
  {
   "cell_type": "code",
   "execution_count": 5,
   "id": "f27c6bbc-2d69-419a-8c28-3d03926daf27",
   "metadata": {},
   "outputs": [
    {
     "data": {
      "text/plain": [
       "{'a': [1, 2, 3]}"
      ]
     },
     "execution_count": 5,
     "metadata": {},
     "output_type": "execute_result"
    }
   ],
   "source": [
    "a={'a':[1,2,3]}\n",
    "a"
   ]
  },
  {
   "cell_type": "markdown",
   "id": "70b72a9e-4d8b-4c57-83c9-c01f5fbabc1b",
   "metadata": {},
   "source": [
    "## 3. 딕셔너리 쌍 추가, 삭제하기"
   ]
  },
  {
   "cell_type": "code",
   "execution_count": 6,
   "id": "8a7bb1d7-70a1-466f-bc19-d1ac4aa021f6",
   "metadata": {},
   "outputs": [
    {
     "data": {
      "text/plain": [
       "{1: 'a', 2: 'b'}"
      ]
     },
     "execution_count": 6,
     "metadata": {},
     "output_type": "execute_result"
    }
   ],
   "source": [
    "a={1:'a'}\n",
    "a[2]='b'\n",
    "a"
   ]
  },
  {
   "cell_type": "code",
   "execution_count": 7,
   "id": "5e6f0355-9b1f-4f92-ab27-266b6092f5bd",
   "metadata": {},
   "outputs": [
    {
     "data": {
      "text/plain": [
       "{1: 'a', 2: 'b', 'name': 'cjw'}"
      ]
     },
     "execution_count": 7,
     "metadata": {},
     "output_type": "execute_result"
    }
   ],
   "source": [
    "a['name']='cjw'\n",
    "a"
   ]
  },
  {
   "cell_type": "code",
   "execution_count": 8,
   "id": "ee8ff181-c458-45cc-873f-be5001aab953",
   "metadata": {},
   "outputs": [
    {
     "data": {
      "text/plain": [
       "{1: 'a', 2: 'b', 'name': 'cjw', 3: [1, 2, 3]}"
      ]
     },
     "execution_count": 8,
     "metadata": {},
     "output_type": "execute_result"
    }
   ],
   "source": [
    "a[3]=[1,2,3]\n",
    "a"
   ]
  },
  {
   "cell_type": "code",
   "execution_count": 11,
   "id": "124dc93b-27bc-4a64-8755-8f3a1487eed5",
   "metadata": {},
   "outputs": [
    {
     "data": {
      "text/plain": [
       "{1: 'a',\n",
       " 2: 'b',\n",
       " 'name': 'cjw',\n",
       " 3: [1, 2, 3],\n",
       " 'hobby': {'a': [1, 2, 3], 'b': 'sport'}}"
      ]
     },
     "execution_count": 11,
     "metadata": {},
     "output_type": "execute_result"
    }
   ],
   "source": [
    "a['hobby']={'a':[1,2,3],'b':'sport'}\n",
    "a"
   ]
  },
  {
   "cell_type": "code",
   "execution_count": 12,
   "id": "d1bf0f4b-bb56-49e9-8e8a-52d406378d2c",
   "metadata": {},
   "outputs": [
    {
     "data": {
      "text/plain": [
       "{1: 'a', 2: 'b', 'name': 'cjw', 3: [1, 2, 3]}"
      ]
     },
     "execution_count": 12,
     "metadata": {},
     "output_type": "execute_result"
    }
   ],
   "source": [
    "del a['hobby']\n",
    "a"
   ]
  },
  {
   "cell_type": "code",
   "execution_count": 13,
   "id": "5ab47ca8-41a4-4fb9-9195-f77ef9bc3de6",
   "metadata": {},
   "outputs": [
    {
     "data": {
      "text/plain": [
       "{1: 'a', 'name': 'cjw', 3: [1, 2, 3]}"
      ]
     },
     "execution_count": 13,
     "metadata": {},
     "output_type": "execute_result"
    }
   ],
   "source": [
    "del a[2]\n",
    "a"
   ]
  },
  {
   "cell_type": "markdown",
   "id": "bb7a64af-f749-4f36-8b24-49e4739a8fe3",
   "metadata": {},
   "source": [
    "## 4.딕셔너리를 사용하는 방법"
   ]
  },
  {
   "cell_type": "code",
   "execution_count": 14,
   "id": "5f640e40-c4d4-47ee-9c1b-9b16853f4617",
   "metadata": {},
   "outputs": [
    {
     "data": {
      "text/plain": [
       "10"
      ]
     },
     "execution_count": 14,
     "metadata": {},
     "output_type": "execute_result"
    }
   ],
   "source": [
    "grade={'pey':10,'julliet':99}\n",
    "grade['pey']"
   ]
  },
  {
   "cell_type": "code",
   "execution_count": 15,
   "id": "5bd38971-f23f-4f04-a595-1691ca8ca95c",
   "metadata": {},
   "outputs": [
    {
     "data": {
      "text/plain": [
       "99"
      ]
     },
     "execution_count": 15,
     "metadata": {},
     "output_type": "execute_result"
    }
   ],
   "source": [
    "grade['julliet']"
   ]
  },
  {
   "cell_type": "code",
   "execution_count": 17,
   "id": "b447b76b-00ff-426d-b8d7-3d90b0502866",
   "metadata": {},
   "outputs": [
    {
     "data": {
      "text/plain": [
       "'a'"
      ]
     },
     "execution_count": 17,
     "metadata": {},
     "output_type": "execute_result"
    }
   ],
   "source": [
    "a={1:'a',2:'b'}\n",
    "a[1]"
   ]
  },
  {
   "cell_type": "code",
   "execution_count": 18,
   "id": "d2bd394d-2d47-4b22-9793-e5c0c33f2281",
   "metadata": {},
   "outputs": [
    {
     "data": {
      "text/plain": [
       "'b'"
      ]
     },
     "execution_count": 18,
     "metadata": {},
     "output_type": "execute_result"
    }
   ],
   "source": [
    "a[2]"
   ]
  },
  {
   "cell_type": "code",
   "execution_count": 19,
   "id": "a169e5e1-a08c-4d6f-8361-ae9a869767e4",
   "metadata": {},
   "outputs": [
    {
     "data": {
      "text/plain": [
       "'pey'"
      ]
     },
     "execution_count": 19,
     "metadata": {},
     "output_type": "execute_result"
    }
   ],
   "source": [
    "dic = {'name':'pey', 'phone':'010-9999-1234', 'birth': '1118'}\n",
    "dic['name']"
   ]
  },
  {
   "cell_type": "code",
   "execution_count": 21,
   "id": "4ef89e2b-2f2e-4d48-b2b9-87375f78945e",
   "metadata": {},
   "outputs": [
    {
     "data": {
      "text/plain": [
       "'1118'"
      ]
     },
     "execution_count": 21,
     "metadata": {},
     "output_type": "execute_result"
    }
   ],
   "source": [
    "dic['phone']\n",
    "'010-9999-1234'\n",
    "dic['birth']"
   ]
  },
  {
   "cell_type": "code",
   "execution_count": 23,
   "id": "fc1c9b38-af9f-47c3-b7ee-b35387fe056d",
   "metadata": {},
   "outputs": [
    {
     "data": {
      "text/plain": [
       "{1: 'b'}"
      ]
     },
     "execution_count": 23,
     "metadata": {},
     "output_type": "execute_result"
    }
   ],
   "source": [
    "# 딕셔너리 만들 때 주의 사항\n",
    "a = {1:'a', 1:'b'}\n",
    "a"
   ]
  },
  {
   "cell_type": "code",
   "execution_count": 24,
   "id": "47a8353c-72e8-4ae8-91ed-bedc16ea5d31",
   "metadata": {},
   "outputs": [
    {
     "ename": "TypeError",
     "evalue": "unhashable type: 'list'",
     "output_type": "error",
     "traceback": [
      "\u001b[1;31m---------------------------------------------------------------------------\u001b[0m",
      "\u001b[1;31mTypeError\u001b[0m                                 Traceback (most recent call last)",
      "Cell \u001b[1;32mIn[24], line 1\u001b[0m\n\u001b[1;32m----> 1\u001b[0m a\u001b[38;5;241m=\u001b[39m{[\u001b[38;5;241m1\u001b[39m,\u001b[38;5;241m2\u001b[39m]:\u001b[38;5;124m'\u001b[39m\u001b[38;5;124mhi\u001b[39m\u001b[38;5;124m'\u001b[39m}\n",
      "\u001b[1;31mTypeError\u001b[0m: unhashable type: 'list'"
     ]
    }
   ],
   "source": [
    "a={[1,2]:'hi'}"
   ]
  },
  {
   "cell_type": "markdown",
   "id": "7efbcb30-8bef-47cf-8831-4a3a54400603",
   "metadata": {},
   "source": [
    "## 5.딕셔너리 관련 함수"
   ]
  },
  {
   "cell_type": "code",
   "execution_count": 26,
   "id": "476d8465-488f-41c2-a3ff-49b37ef016da",
   "metadata": {},
   "outputs": [
    {
     "data": {
      "text/plain": [
       "dict_keys(['name', 'phone', 'birth'])"
      ]
     },
     "execution_count": 26,
     "metadata": {},
     "output_type": "execute_result"
    }
   ],
   "source": [
    "# keys() :key리스트 만들기\n",
    "dic={'name':'cjw','phone':'010-3333-3333','birth':'1111'}\n",
    "dic.keys()"
   ]
  },
  {
   "cell_type": "code",
   "execution_count": 28,
   "id": "0de65e09-6dfb-43cc-81b6-5d8a53eaae73",
   "metadata": {},
   "outputs": [
    {
     "data": {
      "text/plain": [
       "dict_values(['cjw', '010-3333-3333', '1111'])"
      ]
     },
     "execution_count": 28,
     "metadata": {},
     "output_type": "execute_result"
    }
   ],
   "source": [
    "# values() : value리스트 만들기\n",
    "dic.values()"
   ]
  },
  {
   "cell_type": "code",
   "execution_count": 30,
   "id": "6dcd3440-b48d-43d9-8422-52ef5ef7388f",
   "metadata": {},
   "outputs": [
    {
     "name": "stdout",
     "output_type": "stream",
     "text": [
      "name\n",
      "phone\n",
      "birth\n"
     ]
    }
   ],
   "source": [
    "for k in dic.keys():\n",
    "    print(k)"
   ]
  },
  {
   "cell_type": "code",
   "execution_count": 31,
   "id": "d0e0671a-c828-441d-b923-991ddbc850c3",
   "metadata": {},
   "outputs": [
    {
     "data": {
      "text/plain": [
       "dict_items([('name', 'cjw'), ('phone', '010-3333-3333'), ('birth', '1111')])"
      ]
     },
     "execution_count": 31,
     "metadata": {},
     "output_type": "execute_result"
    }
   ],
   "source": [
    "# items() : key, value 쌍 얻기\n",
    "dic.items()"
   ]
  },
  {
   "cell_type": "code",
   "execution_count": 32,
   "id": "f20dccbf-6def-4491-946d-2ba307030dc2",
   "metadata": {},
   "outputs": [
    {
     "data": {
      "text/plain": [
       "{'name': 'cjw', 'phone': '010-3333-3333', 'birth': '1111'}"
      ]
     },
     "execution_count": 32,
     "metadata": {},
     "output_type": "execute_result"
    }
   ],
   "source": [
    "dic"
   ]
  },
  {
   "cell_type": "code",
   "execution_count": 33,
   "id": "4486bbfd-5e2d-4649-a443-f93292cba440",
   "metadata": {},
   "outputs": [
    {
     "data": {
      "text/plain": [
       "{}"
      ]
     },
     "execution_count": 33,
     "metadata": {},
     "output_type": "execute_result"
    }
   ],
   "source": [
    "#clear() Key: Value 쌍 모두 지우기 (딕셔너리 아이템 모두지우기)\n",
    "dic.clear()\n",
    "dic"
   ]
  },
  {
   "cell_type": "code",
   "execution_count": 34,
   "id": "cf0d9f9f-c3ce-4b61-bddd-e04f5a1b866b",
   "metadata": {},
   "outputs": [
    {
     "data": {
      "text/plain": [
       "dict"
      ]
     },
     "execution_count": 34,
     "metadata": {},
     "output_type": "execute_result"
    }
   ],
   "source": [
    "type(dic)"
   ]
  },
  {
   "cell_type": "code",
   "execution_count": 35,
   "id": "ca2f91d6-92d2-40ca-b546-217f02f07e78",
   "metadata": {},
   "outputs": [
    {
     "data": {
      "text/plain": [
       "{'name': 'cjw'}"
      ]
     },
     "execution_count": 35,
     "metadata": {},
     "output_type": "execute_result"
    }
   ],
   "source": [
    "dic['name']='cjw'\n",
    "dic"
   ]
  },
  {
   "cell_type": "code",
   "execution_count": 38,
   "id": "a4c47603-b49b-49ed-b437-94130635e75e",
   "metadata": {},
   "outputs": [
    {
     "data": {
      "text/plain": [
       "{'name': 'cjw', 'phone': '010-3333-3333', 'birth': '3333'}"
      ]
     },
     "execution_count": 38,
     "metadata": {},
     "output_type": "execute_result"
    }
   ],
   "source": [
    "dic['phone']='010-3333-3333'\n",
    "dic['birth']='3333'\n",
    "dic"
   ]
  },
  {
   "cell_type": "code",
   "execution_count": 39,
   "id": "155d1e64-5914-4bf9-ac4a-4c59786fbce4",
   "metadata": {},
   "outputs": [
    {
     "name": "stdout",
     "output_type": "stream",
     "text": [
      "cjw\n"
     ]
    }
   ],
   "source": [
    "print(dic['name'])"
   ]
  },
  {
   "cell_type": "code",
   "execution_count": 40,
   "id": "6c4c4631-7d34-413e-8c6b-0d3b043a83ba",
   "metadata": {},
   "outputs": [
    {
     "name": "stdout",
     "output_type": "stream",
     "text": [
      "내 이름은 cjw\n"
     ]
    }
   ],
   "source": [
    "print(f\"내 이름은 {dic['name']}\")"
   ]
  },
  {
   "cell_type": "code",
   "execution_count": 43,
   "id": "a2ae6f52-c3ce-4703-aed0-4541365e699d",
   "metadata": {},
   "outputs": [
    {
     "name": "stdout",
     "output_type": "stream",
     "text": [
      "내 전화번호는 010-3333-3333입니다.\n"
     ]
    }
   ],
   "source": [
    "print(f\"내 전화번호는 {dic['phone']}입니다.\")"
   ]
  },
  {
   "cell_type": "code",
   "execution_count": 44,
   "id": "b7bfb5ee-7eae-446f-91d1-50b6dca0e33c",
   "metadata": {},
   "outputs": [
    {
     "data": {
      "text/plain": [
       "'3333'"
      ]
     },
     "execution_count": 44,
     "metadata": {},
     "output_type": "execute_result"
    }
   ],
   "source": [
    "# get() : Key로 Value 얻기\n",
    "dic.get('birth')"
   ]
  },
  {
   "cell_type": "code",
   "execution_count": 45,
   "id": "27f84ce9-6377-4f1f-916c-64d8582165c3",
   "metadata": {},
   "outputs": [
    {
     "data": {
      "text/plain": [
       "'cjw'"
      ]
     },
     "execution_count": 45,
     "metadata": {},
     "output_type": "execute_result"
    }
   ],
   "source": [
    "dic.get('name')"
   ]
  },
  {
   "cell_type": "code",
   "execution_count": 46,
   "id": "d231fe55-d05e-4167-bf7d-c726fb304839",
   "metadata": {},
   "outputs": [
    {
     "name": "stdout",
     "output_type": "stream",
     "text": [
      "None\n"
     ]
    }
   ],
   "source": [
    "print(dic.get('age'))"
   ]
  },
  {
   "cell_type": "code",
   "execution_count": 47,
   "id": "68c728ba-3018-48a2-a856-0f318cb9b15b",
   "metadata": {},
   "outputs": [
    {
     "ename": "KeyError",
     "evalue": "'age'",
     "output_type": "error",
     "traceback": [
      "\u001b[1;31m---------------------------------------------------------------------------\u001b[0m",
      "\u001b[1;31mKeyError\u001b[0m                                  Traceback (most recent call last)",
      "Cell \u001b[1;32mIn[47], line 1\u001b[0m\n\u001b[1;32m----> 1\u001b[0m \u001b[38;5;28mprint\u001b[39m(a[\u001b[38;5;124m'\u001b[39m\u001b[38;5;124mage\u001b[39m\u001b[38;5;124m'\u001b[39m])\n",
      "\u001b[1;31mKeyError\u001b[0m: 'age'"
     ]
    }
   ],
   "source": [
    "print(a['age'])"
   ]
  },
  {
   "cell_type": "code",
   "execution_count": 48,
   "id": "8cfe065c-5e47-4dbe-98cf-b98f337dd733",
   "metadata": {},
   "outputs": [
    {
     "data": {
      "text/plain": [
       "25"
      ]
     },
     "execution_count": 48,
     "metadata": {},
     "output_type": "execute_result"
    }
   ],
   "source": [
    "dic.get('age',25)"
   ]
  },
  {
   "cell_type": "code",
   "execution_count": 50,
   "id": "84e5cefd-259f-4240-9c5a-c8f879fe3cce",
   "metadata": {},
   "outputs": [
    {
     "data": {
      "text/plain": [
       "{'name': 'cjw', 'phone': '010-3333-3333', 'birth': '3333', 'age': 28}"
      ]
     },
     "execution_count": 50,
     "metadata": {},
     "output_type": "execute_result"
    }
   ],
   "source": [
    "dic['age']=28\n",
    "dic"
   ]
  },
  {
   "cell_type": "code",
   "execution_count": 52,
   "id": "f4211fd7-e49d-442d-84cf-83b788c2f5ae",
   "metadata": {},
   "outputs": [
    {
     "data": {
      "text/plain": [
       "True"
      ]
     },
     "execution_count": 52,
     "metadata": {},
     "output_type": "execute_result"
    }
   ],
   "source": [
    "# in : 해당 Key가 딕셔너리 안에 있는지 여부를 확인\n",
    "'name' in dic"
   ]
  },
  {
   "cell_type": "code",
   "execution_count": 53,
   "id": "f6237cd8-fedd-497d-a60e-5d224c22a9e0",
   "metadata": {},
   "outputs": [
    {
     "data": {
      "text/plain": [
       "False"
      ]
     },
     "execution_count": 53,
     "metadata": {},
     "output_type": "execute_result"
    }
   ],
   "source": [
    "'email' in dic"
   ]
  },
  {
   "cell_type": "code",
   "execution_count": null,
   "id": "a78b4d1b-4fe4-4fc3-82cb-39042c1fc8f0",
   "metadata": {},
   "outputs": [],
   "source": []
  }
 ],
 "metadata": {
  "kernelspec": {
   "display_name": "Python 3 (ipykernel)",
   "language": "python",
   "name": "python3"
  },
  "language_info": {
   "codemirror_mode": {
    "name": "ipython",
    "version": 3
   },
   "file_extension": ".py",
   "mimetype": "text/x-python",
   "name": "python",
   "nbconvert_exporter": "python",
   "pygments_lexer": "ipython3",
   "version": "3.13.5"
  }
 },
 "nbformat": 4,
 "nbformat_minor": 5
}
