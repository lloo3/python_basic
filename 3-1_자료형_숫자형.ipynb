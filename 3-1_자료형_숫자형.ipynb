{
 "cells": [
  {
   "cell_type": "markdown",
   "id": "f08a111c-9633-4b43-a444-0a8d5ecb8c7d",
   "metadata": {},
   "source": [
    "# Python 시작\n",
    "## 1. 숫자형은 어떻게 만들고 사용할까?"
   ]
  },
  {
   "cell_type": "markdown",
   "id": "dfffc9a9-c50a-439c-9ac5-8270e090001e",
   "metadata": {},
   "source": [
    "### 정수형"
   ]
  },
  {
   "cell_type": "code",
   "execution_count": 1,
   "id": "6cbcb435-8706-434e-aed1-519707214545",
   "metadata": {},
   "outputs": [],
   "source": [
    "a=123"
   ]
  },
  {
   "cell_type": "code",
   "execution_count": 2,
   "id": "14024c11-5024-404b-93b0-5581ddb3ad3f",
   "metadata": {},
   "outputs": [],
   "source": [
    "a=-178"
   ]
  },
  {
   "cell_type": "code",
   "execution_count": 3,
   "id": "b1c9c530-8da3-4e80-a278-8d469e7e3db1",
   "metadata": {},
   "outputs": [],
   "source": [
    "a=0"
   ]
  },
  {
   "cell_type": "markdown",
   "id": "9e992397-da31-42e8-a93e-89b599f24577",
   "metadata": {},
   "source": [
    "### 실수형"
   ]
  },
  {
   "cell_type": "code",
   "execution_count": 4,
   "id": "30aafe25-2d1d-4e7c-a73d-76a14391ac49",
   "metadata": {},
   "outputs": [],
   "source": [
    "a=-1.2"
   ]
  },
  {
   "cell_type": "code",
   "execution_count": 5,
   "id": "24239fcf-6e9b-452b-9286-e052098d0b7f",
   "metadata": {},
   "outputs": [],
   "source": [
    "a=-3.45"
   ]
  },
  {
   "cell_type": "code",
   "execution_count": 6,
   "id": "757cc263-562d-4c0a-9e78-27b4d52ab21a",
   "metadata": {},
   "outputs": [],
   "source": [
    "a=4.24E10"
   ]
  },
  {
   "cell_type": "code",
   "execution_count": 7,
   "id": "469b5cac-19c8-40af-b9cd-d1cf5f340173",
   "metadata": {},
   "outputs": [],
   "source": [
    "a = 4.24e-10"
   ]
  },
  {
   "cell_type": "markdown",
   "id": "d5801069-23b3-4cf6-bf56-dba74f586dab",
   "metadata": {},
   "source": [
    "### 8진수"
   ]
  },
  {
   "cell_type": "code",
   "execution_count": 9,
   "id": "0fbc282c-e1b9-43f7-b0dd-4a7009f95186",
   "metadata": {},
   "outputs": [
    {
     "name": "stdout",
     "output_type": "stream",
     "text": [
      "127\n"
     ]
    }
   ],
   "source": [
    "a = 0o177\n",
    "print(a)"
   ]
  },
  {
   "cell_type": "markdown",
   "id": "31af6b40-8116-47f6-a7d0-3b62ab98af52",
   "metadata": {},
   "source": [
    "### 16진수"
   ]
  },
  {
   "cell_type": "code",
   "execution_count": 12,
   "id": "9af5ecbd-f089-4616-8e9a-0c3c0078766b",
   "metadata": {},
   "outputs": [
    {
     "name": "stdout",
     "output_type": "stream",
     "text": [
      "2748\n"
     ]
    }
   ],
   "source": [
    "a = 0x8ff\n",
    "b = 0xABC\n",
    "print(b)"
   ]
  },
  {
   "cell_type": "markdown",
   "id": "373b681f-c436-47cb-9d73-830b8a371215",
   "metadata": {},
   "source": [
    "## 2.숫자형을 활용하기 위한 연산자"
   ]
  },
  {
   "cell_type": "markdown",
   "id": "0f650ec8-36ca-494a-aa77-66a3bde686c7",
   "metadata": {},
   "source": [
    "### 사칙연산"
   ]
  },
  {
   "cell_type": "code",
   "execution_count": 13,
   "id": "1a846cb2-05d1-4dde-8bbe-3b521239026b",
   "metadata": {},
   "outputs": [
    {
     "data": {
      "text/plain": [
       "7"
      ]
     },
     "execution_count": 13,
     "metadata": {},
     "output_type": "execute_result"
    }
   ],
   "source": [
    " a = 3\n",
    " b = 4\n",
    "a + b"
   ]
  },
  {
   "cell_type": "code",
   "execution_count": 14,
   "id": "0e774421-ef18-4350-9b47-83a950550ea0",
   "metadata": {},
   "outputs": [
    {
     "data": {
      "text/plain": [
       "-1"
      ]
     },
     "execution_count": 14,
     "metadata": {},
     "output_type": "execute_result"
    }
   ],
   "source": [
    " a - b"
   ]
  },
  {
   "cell_type": "code",
   "execution_count": 15,
   "id": "037440e0-76f5-43e0-8a89-4e33fdf99d44",
   "metadata": {},
   "outputs": [
    {
     "data": {
      "text/plain": [
       "12"
      ]
     },
     "execution_count": 15,
     "metadata": {},
     "output_type": "execute_result"
    }
   ],
   "source": [
    " a * b"
   ]
  },
  {
   "cell_type": "code",
   "execution_count": 16,
   "id": "d0b374cf-4c2a-48fa-80cf-48acc5d4fc63",
   "metadata": {},
   "outputs": [
    {
     "data": {
      "text/plain": [
       "0.75"
      ]
     },
     "execution_count": 16,
     "metadata": {},
     "output_type": "execute_result"
    }
   ],
   "source": [
    "a / b"
   ]
  },
  {
   "cell_type": "markdown",
   "id": "4594e672-b622-45e9-8cc5-a08c2d93410a",
   "metadata": {},
   "source": [
    "### 제곱(**) 연산자"
   ]
  },
  {
   "cell_type": "code",
   "execution_count": 17,
   "id": "a64b1e02-865c-4d34-8d0b-fcb18b8a5cd5",
   "metadata": {},
   "outputs": [
    {
     "data": {
      "text/plain": [
       "81"
      ]
     },
     "execution_count": 17,
     "metadata": {},
     "output_type": "execute_result"
    }
   ],
   "source": [
    " a = 3\n",
    " b = 4\n",
    " a ** b"
   ]
  },
  {
   "cell_type": "markdown",
   "id": "b2c79248-cb35-4643-a3c0-38fe9a7840b7",
   "metadata": {},
   "source": [
    "### 나머지(%) 연산자"
   ]
  },
  {
   "cell_type": "code",
   "execution_count": 18,
   "id": "d8a81dba-b23d-45c9-90c2-558dd33a0bfe",
   "metadata": {},
   "outputs": [
    {
     "data": {
      "text/plain": [
       "1"
      ]
     },
     "execution_count": 18,
     "metadata": {},
     "output_type": "execute_result"
    }
   ],
   "source": [
    " 7 % 3"
   ]
  },
  {
   "cell_type": "code",
   "execution_count": 19,
   "id": "9a9aeb22-dd9e-4b67-b504-cbd9dc9cdc36",
   "metadata": {},
   "outputs": [
    {
     "data": {
      "text/plain": [
       "3"
      ]
     },
     "execution_count": 19,
     "metadata": {},
     "output_type": "execute_result"
    }
   ],
   "source": [
    " 3 % 7"
   ]
  },
  {
   "cell_type": "markdown",
   "id": "8fb38f12-2f46-438a-8ef4-c261f8e33b34",
   "metadata": {},
   "source": [
    "### 몫(//) 연산자"
   ]
  },
  {
   "cell_type": "code",
   "execution_count": 20,
   "id": "f712744a-5a09-421f-ba29-93aaa351c6c1",
   "metadata": {},
   "outputs": [
    {
     "data": {
      "text/plain": [
       "1.75"
      ]
     },
     "execution_count": 20,
     "metadata": {},
     "output_type": "execute_result"
    }
   ],
   "source": [
    " 7 / 4"
   ]
  },
  {
   "cell_type": "code",
   "execution_count": 21,
   "id": "70002fb0-a037-4baa-b228-804e0c888615",
   "metadata": {},
   "outputs": [
    {
     "data": {
      "text/plain": [
       "1"
      ]
     },
     "execution_count": 21,
     "metadata": {},
     "output_type": "execute_result"
    }
   ],
   "source": [
    " 7 // 4"
   ]
  }
 ],
 "metadata": {
  "kernelspec": {
   "display_name": "Python 3 (ipykernel)",
   "language": "python",
   "name": "python3"
  },
  "language_info": {
   "codemirror_mode": {
    "name": "ipython",
    "version": 3
   },
   "file_extension": ".py",
   "mimetype": "text/x-python",
   "name": "python",
   "nbconvert_exporter": "python",
   "pygments_lexer": "ipython3",
   "version": "3.13.5"
  }
 },
 "nbformat": 4,
 "nbformat_minor": 5
}
