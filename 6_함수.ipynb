{
 "cells": [
  {
   "cell_type": "markdown",
   "id": "4e4b7595-f012-4428-9848-9f25b9f9a5a8",
   "metadata": {},
   "source": [
    "## 1.파이썬 함수"
   ]
  },
  {
   "cell_type": "code",
   "execution_count": 8,
   "id": "33be12be-7607-4a27-a926-d68d32f36ed5",
   "metadata": {},
   "outputs": [
    {
     "name": "stdout",
     "output_type": "stream",
     "text": [
      "7\n",
      "333\n"
     ]
    }
   ],
   "source": [
    "def add(a,b):\n",
    "    return(a+b)\n",
    "a,b=3,4\n",
    "c=add(a,b)\n",
    "print(c)\n",
    "d=add(111,222)\n",
    "print(d)"
   ]
  },
  {
   "cell_type": "code",
   "execution_count": 9,
   "id": "eed15044-6837-4854-bbb9-072df157e15c",
   "metadata": {},
   "outputs": [
    {
     "name": "stdout",
     "output_type": "stream",
     "text": [
      "6\n"
     ]
    }
   ],
   "source": [
    "# 1. 매개변수 O, 리턴값O\n",
    "\n",
    "def minus(a,b):\n",
    "    result=a-b\n",
    "    return result\n",
    "\n",
    "a=minus(10,4)\n",
    "print(a)\n"
   ]
  },
  {
   "cell_type": "code",
   "execution_count": 11,
   "id": "e19c9cc5-c80b-41a7-bf66-75be3e3b812e",
   "metadata": {},
   "outputs": [
    {
     "name": "stdout",
     "output_type": "stream",
     "text": [
      "hi!\n"
     ]
    }
   ],
   "source": [
    "#2 매개변수 X, 리턴값O\n",
    "\n",
    "def say():\n",
    "    return 'hi!'\n",
    "print(say())"
   ]
  },
  {
   "cell_type": "code",
   "execution_count": 18,
   "id": "6defa7f2-f0fe-42dd-b91f-da3c5ed3377d",
   "metadata": {},
   "outputs": [
    {
     "name": "stdout",
     "output_type": "stream",
     "text": [
      "12,24의합은 36입니다\n",
      "3,4의합은 7입니다\n",
      "None\n"
     ]
    }
   ],
   "source": [
    "#3. 매개변수 O, 리턴값X\n",
    "\n",
    "def add(x,y):\n",
    "    print(\"%d,%d의합은 %d입니다\"%(x,y,x+y))\n",
    "\n",
    "add(12,24)\n",
    "a=add(3,4)\n",
    "print(a)"
   ]
  },
  {
   "cell_type": "code",
   "execution_count": 19,
   "id": "53120800-662f-4d81-9a2e-d08f67f05e73",
   "metadata": {},
   "outputs": [
    {
     "name": "stdout",
     "output_type": "stream",
     "text": [
      "hi.\n"
     ]
    }
   ],
   "source": [
    "# 4. 매개변수X, 리턴값X\n",
    "\n",
    "def say():\n",
    "    print('hi.')\n",
    "\n",
    "say()"
   ]
  },
  {
   "cell_type": "code",
   "execution_count": 22,
   "id": "c4a70ee7-7d56-4e65-bde8-b933a10d82b1",
   "metadata": {},
   "outputs": [
    {
     "name": "stdout",
     "output_type": "stream",
     "text": [
      "4\n",
      "4\n"
     ]
    }
   ],
   "source": [
    "# 키워드 매개변수\n",
    "\n",
    "def sub(a,b):\n",
    "    return a-b\n",
    "\n",
    "result=sub(7,3)\n",
    "\n",
    "print(result)\n",
    "\n",
    "result2=sub(b=3,a=7)\n",
    "print(result2)"
   ]
  },
  {
   "cell_type": "code",
   "execution_count": 25,
   "id": "72ff1c18-7ff4-4410-9be9-0ec529cdbf0d",
   "metadata": {},
   "outputs": [
    {
     "name": "stdout",
     "output_type": "stream",
     "text": [
      "15\n",
      "55\n"
     ]
    }
   ],
   "source": [
    "#가변 매개변수(*매개변수명)\n",
    "\n",
    "def add_many(*args): \n",
    "    result = 0 \n",
    "    for i in args:\n",
    "        result+= i\n",
    "        \n",
    "    return result \n",
    "    \n",
    "res1 = add_many(1,2,3,4,5)\n",
    "print(res1)\n",
    "\n",
    "res2 = add_many(1,2,3,4,5,6,7,8,9,10)\n",
    "print(res2)"
   ]
  },
  {
   "cell_type": "code",
   "execution_count": 29,
   "id": "63395d3a-32b3-4f5b-b5e7-e016746d6fe4",
   "metadata": {},
   "outputs": [
    {
     "name": "stdout",
     "output_type": "stream",
     "text": [
      "6\n",
      "6\n"
     ]
    }
   ],
   "source": [
    "# 덧셈,곱셈 둘다 연산가능한 함수\n",
    "def add_mul(choice, *args):\n",
    "    if choice =='add':\n",
    "        result=0\n",
    "        for i in args:\n",
    "            result += i\n",
    "    elif choice == 'mul':\n",
    "        result=1\n",
    "        for i in args:\n",
    "            result *= i\n",
    "    return result\n",
    "\n",
    "res1= add_mul('add',1,2,3)\n",
    "print(res1)\n",
    "\n",
    "res2 = add_mul('mul',1,2,3)\n",
    "print(res2)"
   ]
  },
  {
   "cell_type": "code",
   "execution_count": 31,
   "id": "0ba1a793-2438-468a-b9f3-ee6ea2acb3af",
   "metadata": {},
   "outputs": [
    {
     "name": "stdout",
     "output_type": "stream",
     "text": [
      "{'a': 1}\n",
      "{'name': 'foo', 'age': 3}\n"
     ]
    }
   ],
   "source": [
    "# 딕셔너리형-키워드 가변 매개변수(**매개변수)\n",
    "\n",
    "def print_kwargs(**kwargs):\n",
    "    print(kwargs)\n",
    "\n",
    "print_kwargs(a=1)\n",
    "\n",
    "print_kwargs(name='foo',age=3)"
   ]
  },
  {
   "cell_type": "code",
   "execution_count": 34,
   "id": "6534136d-bb3f-43ca-a8b1-019212110361",
   "metadata": {},
   "outputs": [
    {
     "name": "stdout",
     "output_type": "stream",
     "text": [
      "(7, 12)\n",
      "a+b= 7\n",
      "a*b= 12\n"
     ]
    }
   ],
   "source": [
    "# 함수의 리턴값은  언제나 하나!\n",
    "\n",
    "def add_and_mul(a,b):\n",
    "    return a+b,a*b\n",
    "\n",
    "res=add_and_mul(3,4)\n",
    "print(res)\n",
    "\n",
    "res1,res2=add_and_mul(3,4)\n",
    "print(\"a+b=\",res1)\n",
    "print(\"a*b=\",res2)"
   ]
  },
  {
   "cell_type": "code",
   "execution_count": 36,
   "id": "07b5f7e9-c52b-4a48-bfda-2951dfa6353d",
   "metadata": {},
   "outputs": [
    {
     "name": "stdout",
     "output_type": "stream",
     "text": [
      "5\n"
     ]
    }
   ],
   "source": [
    "def add_and_mul(a,b):\n",
    "    return a+b\n",
    "    return a*b\n",
    "\n",
    "res= add_and_mul(2,3)\n",
    "print(res)"
   ]
  },
  {
   "cell_type": "code",
   "execution_count": 38,
   "id": "758f6b85-6bc0-4fb2-91a7-f6a9bf01285f",
   "metadata": {},
   "outputs": [
    {
     "name": "stdout",
     "output_type": "stream",
     "text": [
      "나의 별명은 야호입니다.\n"
     ]
    }
   ],
   "source": [
    "#return의 또 다른 쓰임새\n",
    "\n",
    "def say_nick(nick):\n",
    "    if nick =='바보':\n",
    "        return\n",
    "    print(\"나의 별명은 %s입니다.\"%nick)\n",
    "\n",
    "say_nick('야호')"
   ]
  },
  {
   "cell_type": "code",
   "execution_count": 39,
   "id": "a9ec49a8-ae2e-4679-8933-925585c42247",
   "metadata": {},
   "outputs": [
    {
     "name": "stdout",
     "output_type": "stream",
     "text": [
      "나의 이름은mycle입니다.\n",
      "나이는 32살 입니다.\n",
      "남자입니다.\n"
     ]
    }
   ],
   "source": [
    "#매개변수에 초기값 설정\n",
    "def say_myself(name,age,man=True):\n",
    "    print(f\"나의 이름은{name}입니다.\")\n",
    "    print(f\"나이는 {age}살 입니다.\")\n",
    "    if man:\n",
    "        print(\"남자입니다.\")\n",
    "    else:\n",
    "        print(\"여자입니다.\")\n",
    "\n",
    "#함수 호출\n",
    "say_myself('mycle',32)"
   ]
  },
  {
   "cell_type": "code",
   "execution_count": 46,
   "id": "6b2f03a5-184b-4bf8-b2a1-86cd4593c78d",
   "metadata": {},
   "outputs": [
    {
     "name": "stdout",
     "output_type": "stream",
     "text": [
      "1\n"
     ]
    }
   ],
   "source": [
    "#함수 안에서 선언한 변수의 유효 범위\n",
    "\n",
    "a=1\n",
    "def vartest(a):\n",
    "    a=a+1\n",
    "    \n",
    "vartest(a) #아무것도 실행X\n",
    "print(a) #함수밖에 있는 a 출력"
   ]
  },
  {
   "cell_type": "code",
   "execution_count": 53,
   "id": "3fb61203-d2ab-443f-8074-2bfe3cf4b108",
   "metadata": {},
   "outputs": [
    {
     "name": "stdout",
     "output_type": "stream",
     "text": [
      "2\n"
     ]
    }
   ],
   "source": [
    "a=1\n",
    "def vartest(x):\n",
    "    x=x+1\n",
    "    return x\n",
    "a=vartest(a) #함수실행 -> a값 반환 & a변수에 덮어씀\n",
    "print(a)"
   ]
  },
  {
   "cell_type": "code",
   "execution_count": 55,
   "id": "5f9f305c-b10d-4f6e-8994-240caf530356",
   "metadata": {},
   "outputs": [
    {
     "name": "stdout",
     "output_type": "stream",
     "text": [
      "2\n"
     ]
    }
   ],
   "source": [
    "# 함수의 유효범위 -> 2. global 명령어 사용하기\n",
    "\n",
    "a = 1 \n",
    "def vartest(): \n",
    "    global a  # 함수 안에서 a는 전역 변수로 변경됨\n",
    "    a +=1\n",
    "\n",
    "vartest() \n",
    "print(a)"
   ]
  },
  {
   "cell_type": "code",
   "execution_count": 56,
   "id": "dc84942e-f25a-4542-aec1-6e3327588b3b",
   "metadata": {},
   "outputs": [
    {
     "name": "stdout",
     "output_type": "stream",
     "text": [
      "7\n"
     ]
    }
   ],
   "source": [
    "#lambda 표현식(예약어) 사용 안하고 함수 선언\n",
    "def add(a,b):\n",
    "    return a+b\n",
    "\n",
    "print(add(3,4))"
   ]
  },
  {
   "cell_type": "code",
   "execution_count": 57,
   "id": "cfb208a1-abbc-4d50-8345-0cbf94c77b8a",
   "metadata": {},
   "outputs": [
    {
     "name": "stdout",
     "output_type": "stream",
     "text": [
      "7\n"
     ]
    }
   ],
   "source": [
    "#lambda 표현식(예약어) 사용해서 표현\n",
    "\n",
    "add=lambda a,b:a+b\n",
    "print(add(3,4))"
   ]
  },
  {
   "cell_type": "markdown",
   "id": "85d99b4a-653c-42b9-ba0a-68b6e81f6a4f",
   "metadata": {},
   "source": [
    "### 2.함수의 활용"
   ]
  },
  {
   "cell_type": "markdown",
   "id": "b86e90ae-252c-4628-a9b7-c728ac4ac459",
   "metadata": {},
   "source": [
    "#### 1) 재귀함수\n",
    "\n",
    "내가 만든 함수를 다시 호출하는것"
   ]
  },
  {
   "cell_type": "code",
   "execution_count": 59,
   "id": "da0ee1ee-d42a-4709-8e03-e2892051bcf4",
   "metadata": {},
   "outputs": [
    {
     "name": "stdout",
     "output_type": "stream",
     "text": [
      "5!= 120\n"
     ]
    }
   ],
   "source": [
    "#반복문으로 팩토리얼 구하기\n",
    "\n",
    "def factorial(n):\n",
    "    output=1\n",
    "    for i in range(1,n+1):\n",
    "        output *=i\n",
    "    return output\n",
    "\n",
    "print('5!=',factorial(5))\n"
   ]
  },
  {
   "cell_type": "code",
   "execution_count": 60,
   "id": "9c21d513-6074-4c7a-84ec-d9b251a38251",
   "metadata": {},
   "outputs": [
    {
     "name": "stdout",
     "output_type": "stream",
     "text": [
      "5!= 120\n"
     ]
    }
   ],
   "source": [
    "#재귀 함수로 팩토리얼 구하기\n",
    "\n",
    "def factorial(n):\n",
    "    if n==0:\n",
    "        return 1\n",
    "    else:\n",
    "        return n* factorial(n-1)\n",
    "\n",
    "print('5!=',factorial(5))"
   ]
  },
  {
   "cell_type": "markdown",
   "id": "9dcf5f70-a243-4633-8e0b-cdd2b9f0c686",
   "metadata": {},
   "source": [
    "#### 2) 리스트 평탄화하는 재귀 함수 만들기\n",
    "\n"
   ]
  },
  {
   "cell_type": "code",
   "execution_count": 67,
   "id": "f88371b4-12d6-4848-9c9b-bc375b8a600e",
   "metadata": {},
   "outputs": [
    {
     "name": "stdout",
     "output_type": "stream",
     "text": [
      "원본 :  [[1, 2, 3], [4, [5, 6]], 7, [8, 9]]\n",
      "평탄화 :  [1, 2, 3, 4, [5, 6], 7, 8, 9]\n"
     ]
    }
   ],
   "source": [
    "#반복문으로 리스트 평탄화\n",
    "def flatten(data):\n",
    "    output = []\n",
    "    for item in data:\n",
    "        if type(item)  == list:\n",
    "            output += item\n",
    "        else:\n",
    "            output.append(item)\n",
    "\n",
    "    return output\n",
    "\n",
    "example = [[1,2,3],[4,[5,6]],7,[8,9]]\n",
    "print('원본 : ', example)\n",
    "print('평탄화 : ', flatten(example))"
   ]
  },
  {
   "cell_type": "code",
   "execution_count": 68,
   "id": "cfa2d3dc-8088-40a0-bae9-1b231a378340",
   "metadata": {},
   "outputs": [
    {
     "name": "stdout",
     "output_type": "stream",
     "text": [
      "원본 :  [[1, 2, 3], [4, [5, 6]], 7, [8, 9]]\n",
      "평탄화 :  [1, 2, 3, 4, 5, 6, 7, 8, 9]\n"
     ]
    }
   ],
   "source": [
    "# 재귀 함수로 리스트 평탄화\n",
    "def flatten(data):\n",
    "    output = []\n",
    "    for item in data:\n",
    "        if type(item)  == list:\n",
    "            output += flatten(item)\n",
    "            #print(output)\n",
    "        else:\n",
    "            output.append(item)\n",
    "\n",
    "    return output\n",
    "\n",
    "example = [[1,2,3],[4,[5,6]],7,[8,9]]\n",
    "print('원본 : ', example)\n",
    "print('평탄화 : ', flatten(example))"
   ]
  },
  {
   "cell_type": "code",
   "execution_count": null,
   "id": "340e0fa0-4a85-403e-8956-2dea0cb64748",
   "metadata": {},
   "outputs": [],
   "source": []
  }
 ],
 "metadata": {
  "kernelspec": {
   "display_name": "Python 3 (ipykernel)",
   "language": "python",
   "name": "python3"
  },
  "language_info": {
   "codemirror_mode": {
    "name": "ipython",
    "version": 3
   },
   "file_extension": ".py",
   "mimetype": "text/x-python",
   "name": "python",
   "nbconvert_exporter": "python",
   "pygments_lexer": "ipython3",
   "version": "3.13.5"
  }
 },
 "nbformat": 4,
 "nbformat_minor": 5
}
