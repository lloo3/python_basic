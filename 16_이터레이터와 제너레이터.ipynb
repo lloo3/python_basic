{
 "cells": [
  {
   "cell_type": "markdown",
   "id": "acf2aebc-372c-4533-8e5c-f662fbb8a2a6",
   "metadata": {},
   "source": [
    "## 1. 이터레이터란?"
   ]
  },
  {
   "cell_type": "code",
   "execution_count": 1,
   "id": "8b930a6b-f479-44a0-b287-0c55b21393da",
   "metadata": {},
   "outputs": [
    {
     "ename": "TypeError",
     "evalue": "'list' object is not an iterator",
     "output_type": "error",
     "traceback": [
      "\u001b[1;31m---------------------------------------------------------------------------\u001b[0m",
      "\u001b[1;31mTypeError\u001b[0m                                 Traceback (most recent call last)",
      "Cell \u001b[1;32mIn[1], line 2\u001b[0m\n\u001b[0;32m      1\u001b[0m a\u001b[38;5;241m=\u001b[39m[\u001b[38;5;241m1\u001b[39m,\u001b[38;5;241m2\u001b[39m,\u001b[38;5;241m3\u001b[39m]\n\u001b[1;32m----> 2\u001b[0m \u001b[38;5;28mnext\u001b[39m(a)\n",
      "\u001b[1;31mTypeError\u001b[0m: 'list' object is not an iterator"
     ]
    }
   ],
   "source": [
    "a=[1,2,3]\n",
    "next(a)"
   ]
  },
  {
   "cell_type": "code",
   "execution_count": 2,
   "id": "4b118be1-23ca-4d3b-a7fb-010be37311d4",
   "metadata": {},
   "outputs": [
    {
     "data": {
      "text/plain": [
       "list_iterator"
      ]
     },
     "execution_count": 2,
     "metadata": {},
     "output_type": "execute_result"
    }
   ],
   "source": [
    "# 리스트를 iter() 함수로 이터레이터 객체로 변환\n",
    "\n",
    "a=[1,2,3]\n",
    "ia = iter(a)\n",
    "type(ia)"
   ]
  },
  {
   "cell_type": "code",
   "execution_count": 3,
   "id": "5c64f090-ceb2-41c3-b272-86b6e922935a",
   "metadata": {},
   "outputs": [
    {
     "data": {
      "text/plain": [
       "1"
      ]
     },
     "execution_count": 3,
     "metadata": {},
     "output_type": "execute_result"
    }
   ],
   "source": [
    "next(ia)"
   ]
  },
  {
   "cell_type": "code",
   "execution_count": 4,
   "id": "ccd0bb73-6187-441b-be05-0930a57e1e8a",
   "metadata": {},
   "outputs": [
    {
     "data": {
      "text/plain": [
       "2"
      ]
     },
     "execution_count": 4,
     "metadata": {},
     "output_type": "execute_result"
    }
   ],
   "source": [
    "next(ia)"
   ]
  },
  {
   "cell_type": "code",
   "execution_count": 5,
   "id": "71eb5332-b989-4539-94d6-cc0b85836034",
   "metadata": {},
   "outputs": [
    {
     "data": {
      "text/plain": [
       "3"
      ]
     },
     "execution_count": 5,
     "metadata": {},
     "output_type": "execute_result"
    }
   ],
   "source": [
    "next(ia)"
   ]
  },
  {
   "cell_type": "code",
   "execution_count": 6,
   "id": "b1219e50-366b-4db7-9d8c-836d827f0447",
   "metadata": {},
   "outputs": [
    {
     "ename": "StopIteration",
     "evalue": "",
     "output_type": "error",
     "traceback": [
      "\u001b[1;31m---------------------------------------------------------------------------\u001b[0m",
      "\u001b[1;31mStopIteration\u001b[0m                             Traceback (most recent call last)",
      "Cell \u001b[1;32mIn[6], line 1\u001b[0m\n\u001b[1;32m----> 1\u001b[0m \u001b[38;5;28mnext\u001b[39m(ia)\n",
      "\u001b[1;31mStopIteration\u001b[0m: "
     ]
    }
   ],
   "source": [
    "next(ia)"
   ]
  },
  {
   "cell_type": "code",
   "execution_count": 7,
   "id": "a78bfb84-ea41-4178-b932-50040f29484b",
   "metadata": {},
   "outputs": [
    {
     "name": "stdout",
     "output_type": "stream",
     "text": [
      "1\n",
      "2\n",
      "3\n"
     ]
    }
   ],
   "source": [
    "#이터레이터의 값을 가져오는 가장 일반적인 방법(for 문)\n",
    "\n",
    "a=[1,2,3]\n",
    "ia=iter(a)\n",
    "for i in ia:\n",
    "    print(i)"
   ]
  },
  {
   "cell_type": "code",
   "execution_count": 9,
   "id": "744f0a44-3d64-46fe-acd5-a3c33ab0fbd9",
   "metadata": {},
   "outputs": [],
   "source": [
    "#이터레이터 객체는 for문이나 next()로 그값을 한번 읽으면 다시 읽을수 없음 \n",
    "for i in ia:\n",
    "    print(i)"
   ]
  },
  {
   "cell_type": "markdown",
   "id": "291cc919-6f31-42d0-b1ea-8dc98222208f",
   "metadata": {},
   "source": [
    "## 2. 제너레이터란?"
   ]
  },
  {
   "cell_type": "code",
   "execution_count": 10,
   "id": "504c5d5f-2ba7-4d32-a26d-d30f56b9dfc8",
   "metadata": {},
   "outputs": [],
   "source": [
    "#가장 간단한 제너레이터\n",
    "\n",
    "def mygen():\n",
    "     yield 'a'\n",
    "     yield 'b'\n",
    "     yield 'c'\n",
    "\n",
    "g=mygen()"
   ]
  },
  {
   "cell_type": "code",
   "execution_count": 11,
   "id": "88eacf22-77e3-4c42-8ecf-0d0545478763",
   "metadata": {},
   "outputs": [
    {
     "data": {
      "text/plain": [
       "generator"
      ]
     },
     "execution_count": 11,
     "metadata": {},
     "output_type": "execute_result"
    }
   ],
   "source": [
    "type(g)"
   ]
  },
  {
   "cell_type": "code",
   "execution_count": 12,
   "id": "dc30803c-d9f1-45f8-8de7-264cfbd0d58f",
   "metadata": {},
   "outputs": [
    {
     "data": {
      "text/plain": [
       "'a'"
      ]
     },
     "execution_count": 12,
     "metadata": {},
     "output_type": "execute_result"
    }
   ],
   "source": [
    "next(g)"
   ]
  },
  {
   "cell_type": "code",
   "execution_count": 13,
   "id": "191ddbf6-b419-465a-99e8-1016be3dc559",
   "metadata": {},
   "outputs": [
    {
     "data": {
      "text/plain": [
       "'b'"
      ]
     },
     "execution_count": 13,
     "metadata": {},
     "output_type": "execute_result"
    }
   ],
   "source": [
    "next(g)"
   ]
  },
  {
   "cell_type": "code",
   "execution_count": 14,
   "id": "cb2192b9-2fd1-4afa-b88b-52ff4d68e39d",
   "metadata": {},
   "outputs": [
    {
     "data": {
      "text/plain": [
       "'c'"
      ]
     },
     "execution_count": 14,
     "metadata": {},
     "output_type": "execute_result"
    }
   ],
   "source": [
    "next(g)"
   ]
  },
  {
   "cell_type": "code",
   "execution_count": 15,
   "id": "93407794-c66d-4a34-b34a-669765ee0d56",
   "metadata": {},
   "outputs": [
    {
     "ename": "StopIteration",
     "evalue": "",
     "output_type": "error",
     "traceback": [
      "\u001b[1;31m---------------------------------------------------------------------------\u001b[0m",
      "\u001b[1;31mStopIteration\u001b[0m                             Traceback (most recent call last)",
      "Cell \u001b[1;32mIn[15], line 1\u001b[0m\n\u001b[1;32m----> 1\u001b[0m \u001b[38;5;28mnext\u001b[39m(g)\n",
      "\u001b[1;31mStopIteration\u001b[0m: "
     ]
    }
   ],
   "source": [
    "next(g)"
   ]
  },
  {
   "cell_type": "markdown",
   "id": "7214ea9e-344e-450f-8cd0-7002c135808c",
   "metadata": {},
   "source": [
    "## 3. 제너레이터 표현식"
   ]
  },
  {
   "cell_type": "code",
   "execution_count": 17,
   "id": "b7b0a45b-bbe9-450a-b66a-998c5ae120e7",
   "metadata": {},
   "outputs": [
    {
     "name": "stdout",
     "output_type": "stream",
     "text": [
      "1\n",
      "4\n",
      "9\n",
      "16\n",
      "25\n",
      "36\n",
      "49\n",
      "64\n",
      "81\n",
      "100\n"
     ]
    }
   ],
   "source": [
    "# generator.py\n",
    "\n",
    "def mygen():\n",
    "    for i in range(1, 1000):\n",
    "        result = i * i\n",
    "        yield result\n",
    "\n",
    "gen = mygen()\n",
    "\n",
    "print(next(gen))\n",
    "print(next(gen))\n",
    "print(next(gen))\n",
    "print(next(gen))\n",
    "print(next(gen))\n",
    "print(next(gen))\n",
    "print(next(gen))\n",
    "print(next(gen))\n",
    "print(next(gen))\n",
    "print(next(gen))"
   ]
  },
  {
   "cell_type": "code",
   "execution_count": 24,
   "id": "0946a9d9-df38-4ce7-8bf5-337b739c57e5",
   "metadata": {},
   "outputs": [
    {
     "name": "stdout",
     "output_type": "stream",
     "text": [
      "1\n",
      "4\n",
      "9\n",
      "16\n",
      "25\n",
      "36\n"
     ]
    }
   ],
   "source": [
    "# 제너레이터 표현식\n",
    "\n",
    "gen = (i*i  for i in range(1, 1000))\n",
    "\n",
    "for i in range(0,6):\n",
    "    print(next(gen))"
   ]
  },
  {
   "cell_type": "markdown",
   "id": "d2242671-be3a-428a-8cd0-84ac2de549ca",
   "metadata": {},
   "source": [
    "## 4.제너레이터와 이터레이터"
   ]
  },
  {
   "cell_type": "code",
   "execution_count": 25,
   "id": "cd5f7f2e-26fa-4ac7-836c-77c5d4c0fdd2",
   "metadata": {},
   "outputs": [
    {
     "name": "stdout",
     "output_type": "stream",
     "text": [
      "1\n",
      "4\n",
      "9\n",
      "16\n",
      "25\n"
     ]
    }
   ],
   "source": [
    "# 제너레이터를 이터레이터 클래스로 구현한 예\n",
    "\n",
    "class MyIterator:\n",
    "    def __init__(self):\n",
    "        self.data = 1\n",
    "    def __iter__(self):\n",
    "        return self\n",
    "    def __next__(self):\n",
    "        result = self.data * self.data\n",
    "        self.data += 1\n",
    "        if self.data >= 1000:\n",
    "            raise StopIteration\n",
    "        return result\n",
    "iter = MyIterator()\n",
    "for i in range(5):\n",
    "    print(next(iter))"
   ]
  },
  {
   "cell_type": "markdown",
   "id": "5b77736d-c046-4d7f-a181-80670ec6771c",
   "metadata": {},
   "source": [
    "## 5.제너레이터 활용하기"
   ]
  },
  {
   "cell_type": "code",
   "execution_count": 26,
   "id": "391bce05-83cb-4935-a5ea-47b946d88f64",
   "metadata": {},
   "outputs": [
    {
     "name": "stdout",
     "output_type": "stream",
     "text": [
      "job start\n",
      "job start\n",
      "job start\n",
      "job start\n",
      "job start\n",
      "done\n"
     ]
    }
   ],
   "source": [
    "# generator2.py\n",
    "\n",
    "import time\n",
    "def longtime_job():\n",
    "    print(\"job start\")\n",
    "    time.sleep(1)  \n",
    "    # 1초 지연 - 실제로는 데이터베이스 조회, 파일 처리 등을 시뮬레이션\n",
    "    return \"done\"\n",
    "# 리스트 컴프리헨션: 5번의 작업을 모두 실행해서 리스트로 만든다\n",
    "\n",
    "list_job = [longtime_job() for i in range(5)]\n",
    "print(list_job[0])  \n",
    "\n",
    "# 첫 번째 결과만 필요한 상황"
   ]
  },
  {
   "cell_type": "code",
   "execution_count": 27,
   "id": "dfa831b2-86bc-4df4-97e5-f9265003447a",
   "metadata": {},
   "outputs": [
    {
     "name": "stdout",
     "output_type": "stream",
     "text": [
      "job start\n",
      "done\n"
     ]
    }
   ],
   "source": [
    "# generator2.py\n",
    "\n",
    "import time\n",
    "def longtime_job():\n",
    "    print(\"job start\")\n",
    "    time.sleep(1)\n",
    "    return \"done\"\n",
    "\n",
    "# 제너레이터 표현식: 함수를 미리 실행하지 않고 필요할 때만 실행\n",
    "\n",
    "list_job = (longtime_job() for i in range(5))\n",
    "\n",
    "print(next(list_job))  \n",
    "\n",
    "# 첫 번째 값만 요청"
   ]
  },
  {
   "cell_type": "code",
   "execution_count": null,
   "id": "4c8494cb-a51a-43a7-9acc-ae427e985dd4",
   "metadata": {},
   "outputs": [],
   "source": []
  }
 ],
 "metadata": {
  "kernelspec": {
   "display_name": "Python 3 (ipykernel)",
   "language": "python",
   "name": "python3"
  },
  "language_info": {
   "codemirror_mode": {
    "name": "ipython",
    "version": 3
   },
   "file_extension": ".py",
   "mimetype": "text/x-python",
   "name": "python",
   "nbconvert_exporter": "python",
   "pygments_lexer": "ipython3",
   "version": "3.13.5"
  }
 },
 "nbformat": 4,
 "nbformat_minor": 5
}
