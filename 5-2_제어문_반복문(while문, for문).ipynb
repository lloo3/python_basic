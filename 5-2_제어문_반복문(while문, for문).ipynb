{
 "cells": [
  {
   "cell_type": "markdown",
   "id": "bd78d44d-8c3b-4a1c-b208-01fe9aa63e5d",
   "metadata": {},
   "source": [
    "## 1. while문"
   ]
  },
  {
   "cell_type": "code",
   "execution_count": 4,
   "id": "83b0214c-89e3-4f89-ab7f-31242845a449",
   "metadata": {},
   "outputs": [
    {
     "name": "stdout",
     "output_type": "stream",
     "text": [
      "나무를 1번 찍음\n",
      "나무를 2번 찍음\n",
      "나무를 3번 찍음\n",
      "나무를 4번 찍음\n",
      "나무를 5번 찍음\n",
      "나무를 6번 찍음\n",
      "나무를 7번 찍음\n",
      "나무를 8번 찍음\n",
      "나무를 9번 찍음\n",
      "나무를 10번 찍음\n",
      "나무 넘어감\n"
     ]
    }
   ],
   "source": [
    "treeHit=0\n",
    "while treeHit<10:\n",
    "    treeHit+=1  # = treeHit = treeHit +1\n",
    "    print('나무를 %d번 찍음'%treeHit)\n",
    "    if treeHit ==10:\n",
    "        print(\"나무 넘어감\")"
   ]
  },
  {
   "cell_type": "code",
   "execution_count": 5,
   "id": "56de233c-a5a4-4e1d-b4cf-03c021e867e0",
   "metadata": {},
   "outputs": [],
   "source": [
    "prompt = \"\"\"\n",
    "1. Add\n",
    "2. Del\n",
    "3. List\n",
    "4. Quit\n",
    "\n",
    "Enter number:\"\"\""
   ]
  },
  {
   "cell_type": "code",
   "execution_count": 6,
   "id": "9db37fd4-2b62-446d-abc3-a04ad59efb09",
   "metadata": {},
   "outputs": [
    {
     "name": "stdout",
     "output_type": "stream",
     "text": [
      "\n",
      "1. Add\n",
      "2. Del\n",
      "3. List\n",
      "4. Quit\n",
      "\n",
      "Enter number:\n"
     ]
    },
    {
     "name": "stdin",
     "output_type": "stream",
     "text": [
      " 1\n"
     ]
    },
    {
     "name": "stdout",
     "output_type": "stream",
     "text": [
      "\n",
      "1. Add\n",
      "2. Del\n",
      "3. List\n",
      "4. Quit\n",
      "\n",
      "Enter number:\n"
     ]
    },
    {
     "name": "stdin",
     "output_type": "stream",
     "text": [
      " 2\n"
     ]
    },
    {
     "name": "stdout",
     "output_type": "stream",
     "text": [
      "\n",
      "1. Add\n",
      "2. Del\n",
      "3. List\n",
      "4. Quit\n",
      "\n",
      "Enter number:\n"
     ]
    },
    {
     "name": "stdin",
     "output_type": "stream",
     "text": [
      " 1\n"
     ]
    },
    {
     "name": "stdout",
     "output_type": "stream",
     "text": [
      "\n",
      "1. Add\n",
      "2. Del\n",
      "3. List\n",
      "4. Quit\n",
      "\n",
      "Enter number:\n"
     ]
    },
    {
     "name": "stdin",
     "output_type": "stream",
     "text": [
      " 3\n"
     ]
    },
    {
     "name": "stdout",
     "output_type": "stream",
     "text": [
      "\n",
      "1. Add\n",
      "2. Del\n",
      "3. List\n",
      "4. Quit\n",
      "\n",
      "Enter number:\n"
     ]
    },
    {
     "name": "stdin",
     "output_type": "stream",
     "text": [
      " 4\n"
     ]
    }
   ],
   "source": [
    "number=0\n",
    "while number !=4:\n",
    "    print(prompt)\n",
    "    number=int(input())"
   ]
  },
  {
   "cell_type": "code",
   "execution_count": 7,
   "id": "4f6aa2bb-cbab-42b0-91b7-200c7d43ab2b",
   "metadata": {},
   "outputs": [
    {
     "name": "stdout",
     "output_type": "stream",
     "text": [
      "돈받았으니 커피줌\n",
      "남은커피 양은 9개\n",
      "돈받았으니 커피줌\n",
      "남은커피 양은 8개\n",
      "돈받았으니 커피줌\n",
      "남은커피 양은 7개\n",
      "돈받았으니 커피줌\n",
      "남은커피 양은 6개\n",
      "돈받았으니 커피줌\n",
      "남은커피 양은 5개\n",
      "돈받았으니 커피줌\n",
      "남은커피 양은 4개\n",
      "돈받았으니 커피줌\n",
      "남은커피 양은 3개\n",
      "돈받았으니 커피줌\n",
      "남은커피 양은 2개\n",
      "돈받았으니 커피줌\n",
      "남은커피 양은 1개\n",
      "돈받았으니 커피줌\n",
      "남은커피 양은 0개\n",
      "커피떨어짐 판매중지\n"
     ]
    }
   ],
   "source": [
    "# break문 : while문 강제로 빠져나가기\n",
    "coffee=10\n",
    "money=300\n",
    "\n",
    "while money:\n",
    "    print(\"돈받았으니 커피줌\")\n",
    "    coffee-=1\n",
    "    print(\"남은커피 양은 %d개\"%coffee)\n",
    "\n",
    "    if coffee==0:\n",
    "        print(\"커피떨어짐 판매중지\")\n",
    "        break #반복문 강제 종료"
   ]
  },
  {
   "cell_type": "code",
   "execution_count": 10,
   "id": "107ae1fa-d6df-4bad-8c27-f9b7804b5e3b",
   "metadata": {},
   "outputs": [
    {
     "name": "stdin",
     "output_type": "stream",
     "text": [
      "동전을 넣어주세요:  500\n"
     ]
    },
    {
     "name": "stdout",
     "output_type": "stream",
     "text": [
      "거스름돈 200,커피지급\n"
     ]
    },
    {
     "name": "stdin",
     "output_type": "stream",
     "text": [
      "동전을 넣어주세요:  30000\n"
     ]
    },
    {
     "name": "stdout",
     "output_type": "stream",
     "text": [
      "거스름돈 29700,커피지급\n"
     ]
    },
    {
     "name": "stdin",
     "output_type": "stream",
     "text": [
      "동전을 넣어주세요:  150\n"
     ]
    },
    {
     "name": "stdout",
     "output_type": "stream",
     "text": [
      "돈을 돌려주고 커피 지급X\n",
      "남은커피 양은 8개\n"
     ]
    },
    {
     "name": "stdin",
     "output_type": "stream",
     "text": [
      "동전을 넣어주세요:  400\n"
     ]
    },
    {
     "name": "stdout",
     "output_type": "stream",
     "text": [
      "거스름돈 100,커피지급\n"
     ]
    },
    {
     "name": "stdin",
     "output_type": "stream",
     "text": [
      "동전을 넣어주세요:  600\n"
     ]
    },
    {
     "name": "stdout",
     "output_type": "stream",
     "text": [
      "거스름돈 300,커피지급\n"
     ]
    },
    {
     "name": "stdin",
     "output_type": "stream",
     "text": [
      "동전을 넣어주세요:  700\n"
     ]
    },
    {
     "name": "stdout",
     "output_type": "stream",
     "text": [
      "거스름돈 400,커피지급\n"
     ]
    },
    {
     "name": "stdin",
     "output_type": "stream",
     "text": [
      "동전을 넣어주세요:  15850000\n"
     ]
    },
    {
     "name": "stdout",
     "output_type": "stream",
     "text": [
      "거스름돈 15849700,커피지급\n"
     ]
    },
    {
     "name": "stdin",
     "output_type": "stream",
     "text": [
      "동전을 넣어주세요:  780\n"
     ]
    },
    {
     "name": "stdout",
     "output_type": "stream",
     "text": [
      "거스름돈 480,커피지급\n"
     ]
    },
    {
     "name": "stdin",
     "output_type": "stream",
     "text": [
      "동전을 넣어주세요:  3838383\n"
     ]
    },
    {
     "name": "stdout",
     "output_type": "stream",
     "text": [
      "거스름돈 3838083,커피지급\n"
     ]
    },
    {
     "name": "stdin",
     "output_type": "stream",
     "text": [
      "동전을 넣어주세요:  33333\n"
     ]
    },
    {
     "name": "stdout",
     "output_type": "stream",
     "text": [
      "거스름돈 33033,커피지급\n"
     ]
    },
    {
     "name": "stdin",
     "output_type": "stream",
     "text": [
      "동전을 넣어주세요:  23423\n"
     ]
    },
    {
     "name": "stdout",
     "output_type": "stream",
     "text": [
      "거스름돈 23123,커피지급\n",
      "커피떨어짐 판매중지\n"
     ]
    }
   ],
   "source": [
    "coffee=10\n",
    "\n",
    "while True:\n",
    "    money=int(input(\"동전을 넣어주세요: \"))\n",
    "\n",
    "    if money ==300:\n",
    "        print(\"돈받았으니 커피줌\")\n",
    "        coffee-=1\n",
    "    elif money>=300:\n",
    "        print(\"거스름돈 %d,커피지급\"%(money-300))\n",
    "        coffee-=1\n",
    "    else:\n",
    "        print(\"돈을 돌려주고 커피 지급X\")\n",
    "        print(\"남은커피 양은 %d개\"%coffee)\n",
    "\n",
    "    if coffee==0:\n",
    "        print(\"커피떨어짐 판매중지\")\n",
    "        break #반복문 강제 종료"
   ]
  },
  {
   "cell_type": "code",
   "execution_count": 11,
   "id": "dc9d0e5d-0104-4df4-8626-c5734944a028",
   "metadata": {},
   "outputs": [
    {
     "name": "stdout",
     "output_type": "stream",
     "text": [
      "1\n",
      "3\n",
      "5\n",
      "7\n",
      "9\n"
     ]
    }
   ],
   "source": [
    "#continue문 : 반복문 처음으로 돌아감\n",
    "a=0\n",
    "\n",
    "while a<10:\n",
    "    a+=1\n",
    "    if a %2==0:continue\n",
    "    print(a)"
   ]
  },
  {
   "cell_type": "markdown",
   "id": "c7a9cd69-c410-459b-851f-d2a82109ccf9",
   "metadata": {},
   "source": [
    "## 2.for문"
   ]
  },
  {
   "cell_type": "code",
   "execution_count": 2,
   "id": "30792eda-f914-40dc-912a-44c109bd33d4",
   "metadata": {},
   "outputs": [
    {
     "name": "stdout",
     "output_type": "stream",
     "text": [
      "one\n",
      "two\n",
      "three\n"
     ]
    }
   ],
   "source": [
    "test_list =['one','two','three']\n",
    "for num in test_list:\n",
    "    print(num)"
   ]
  },
  {
   "cell_type": "code",
   "execution_count": 5,
   "id": "5bdb9d4f-3a22-4369-a1de-53e43dedcf2b",
   "metadata": {},
   "outputs": [
    {
     "name": "stdout",
     "output_type": "stream",
     "text": [
      "(5, 6)\n",
      "5\n"
     ]
    }
   ],
   "source": [
    "a=[(1,2),(3,4),(5,6)]\n",
    "print(a[2])\n",
    "print(a[2][0])"
   ]
  },
  {
   "cell_type": "code",
   "execution_count": 27,
   "id": "355c6896-b1b7-4d05-a1cd-a8e50cb62298",
   "metadata": {},
   "outputs": [
    {
     "name": "stdout",
     "output_type": "stream",
     "text": [
      "2\n",
      "12\n",
      "30\n"
     ]
    }
   ],
   "source": [
    "for(first,last)in a:\n",
    "    print(first*last)"
   ]
  },
  {
   "cell_type": "code",
   "execution_count": 7,
   "id": "9c5f5948-e93f-47f2-a9cb-728d3958f1a2",
   "metadata": {},
   "outputs": [
    {
     "name": "stdout",
     "output_type": "stream",
     "text": [
      "(1, 2)\n",
      "(3, 4)\n",
      "(5, 6)\n"
     ]
    }
   ],
   "source": [
    "for i in a:\n",
    "    print(i)"
   ]
  },
  {
   "cell_type": "code",
   "execution_count": 9,
   "id": "faa00af7-230e-4ef2-9e31-f41e120ad45a",
   "metadata": {},
   "outputs": [
    {
     "name": "stdout",
     "output_type": "stream",
     "text": [
      "1번 학생은 합격입니다.\n",
      "2번 학생은 불합격입니다.\n",
      "3번 학생은 합격입니다.\n",
      "4번 학생은 불합격입니다.\n",
      "5번 학생은 합격입니다.\n"
     ]
    }
   ],
   "source": [
    "# 총 5명의 학생이 시험을 보았는데 시험 점수가 60점 이상이면 합격이고 \n",
    "#그렇지 않으면 불합격이다. 합격인지, 불합격인지 결과를 보여 주시오.\n",
    "\n",
    "marks=[90,25,67,45,80] # 학생들의 시험 점수 리스트\n",
    "\n",
    "number=0 # 학생에게 붙여 줄 번호\n",
    "\n",
    "for mark in marks:\n",
    "    number+=1\n",
    "    if mark>=60:\n",
    "        print(\"%d번 학생은 합격입니다.\"%number)\n",
    "    else:\n",
    "        print(\"%d번 학생은 불합격입니다.\"%number)"
   ]
  },
  {
   "cell_type": "code",
   "execution_count": 21,
   "id": "5ea763c7-df52-433c-bcb1-8c229bc06fcc",
   "metadata": {},
   "outputs": [
    {
     "name": "stdout",
     "output_type": "stream",
     "text": [
      "1번 학생은 합격입니다.\n",
      "3번 학생은 합격입니다.\n",
      "5번 학생은 합격입니다.\n"
     ]
    }
   ],
   "source": [
    "# for 문 안의 문장을 수행하는 도중 continue 문을 만나면 for 문의 처음으로 돌아가게 된다. 60점 이상인 사람에게는 축하 메시지를 보내고 나머지 사람에게는 아무런 메시지도 전하지 않는 프로그램을 작성해 보자.\n",
    "\n",
    "marks=[90,25,67,45,80] # 학생들의 시험 점수 리스트\n",
    "\n",
    "number=0 # 학생에게 붙여 줄 번호\n",
    "\n",
    "for mark in marks:\n",
    "    number+=1\n",
    "    if mark<60:\n",
    "        continue\n",
    "    print(\"%d번 학생은 합격입니다.\"%number)"
   ]
  },
  {
   "cell_type": "code",
   "execution_count": 22,
   "id": "71cfe302-d8e6-4d2b-aec3-21bee936fbf0",
   "metadata": {},
   "outputs": [
    {
     "name": "stdout",
     "output_type": "stream",
     "text": [
      "1번 학생은 합격입니다.\n",
      "3번 학생은 합격입니다.\n",
      "5번 학생은 합격입니다.\n"
     ]
    }
   ],
   "source": [
    "marks=[90,25,67,45,80] # 학생들의 시험 점수 리스트\n",
    "\n",
    "number=0 # 학생에게 붙여 줄 번호\n",
    "\n",
    "for mark in marks:\n",
    "    number+=1\n",
    "    if mark>=60:\n",
    "        print(\"%d번 학생은 합격입니다.\"%number)"
   ]
  },
  {
   "cell_type": "markdown",
   "id": "4a048705-6924-41cc-b367-7fecc9a7d03b",
   "metadata": {},
   "source": [
    "### for문과 함께 자주 사용하는 range 함수"
   ]
  },
  {
   "cell_type": "code",
   "execution_count": 29,
   "id": "96963e65-47aa-4b84-b674-95792d2abe00",
   "metadata": {},
   "outputs": [
    {
     "name": "stdout",
     "output_type": "stream",
     "text": [
      "range(0, 10)\n",
      "<class 'range'>\n"
     ]
    }
   ],
   "source": [
    "a=range(10)\n",
    "print(a)\n",
    "print(type(a))"
   ]
  },
  {
   "cell_type": "code",
   "execution_count": 31,
   "id": "10f9df92-daf3-42f4-810f-c9241ac3382f",
   "metadata": {},
   "outputs": [
    {
     "name": "stdout",
     "output_type": "stream",
     "text": [
      "[0, 1, 2, 3, 4, 5, 6, 7, 8, 9]\n",
      "<class 'list'>\n"
     ]
    }
   ],
   "source": [
    "a=list(a)\n",
    "print(a)\n",
    "print(type(a))"
   ]
  },
  {
   "cell_type": "code",
   "execution_count": 35,
   "id": "d89b8da0-6ef9-4282-b91e-38f03828adb7",
   "metadata": {},
   "outputs": [
    {
     "data": {
      "text/plain": [
       "[1, 2, 3, 4, 5, 6, 7, 8, 9, 10]"
      ]
     },
     "execution_count": 35,
     "metadata": {},
     "output_type": "execute_result"
    }
   ],
   "source": [
    "a=list(range(1,11))\n",
    "a"
   ]
  },
  {
   "cell_type": "code",
   "execution_count": 36,
   "id": "7f105d29-3c30-4b01-9214-0d9a5462edb7",
   "metadata": {},
   "outputs": [
    {
     "data": {
      "text/plain": [
       "[15, 16, 17, 18, 19, 20]"
      ]
     },
     "execution_count": 36,
     "metadata": {},
     "output_type": "execute_result"
    }
   ],
   "source": [
    "a=list(range(15,21))\n",
    "a"
   ]
  },
  {
   "cell_type": "markdown",
   "id": "3955f69d-d3a3-4e8a-ba91-29ecd3d2f108",
   "metadata": {},
   "source": [
    "### range함수 예시"
   ]
  },
  {
   "cell_type": "code",
   "execution_count": 40,
   "id": "be31e765-5e0c-4b7b-9249-20e28631f04d",
   "metadata": {},
   "outputs": [
    {
     "name": "stdout",
     "output_type": "stream",
     "text": [
      "1\n",
      "3\n",
      "6\n",
      "10\n",
      "15\n",
      "21\n",
      "28\n",
      "36\n",
      "45\n",
      "55\n",
      "--------------------\n",
      "55\n"
     ]
    }
   ],
   "source": [
    "add=0\n",
    "for i in range(1,11):\n",
    "    add+=i\n",
    "    print(add)\n",
    "\n",
    "print(\"-\"*20)\n",
    "print(add)"
   ]
  },
  {
   "cell_type": "code",
   "execution_count": 43,
   "id": "33da780d-d876-46ee-9599-777bf09a72a1",
   "metadata": {},
   "outputs": [
    {
     "name": "stdout",
     "output_type": "stream",
     "text": [
      "1번 학생은 합격입니다.\n",
      "3번 학생은 합격입니다.\n",
      "5번 학생은 합격입니다.\n"
     ]
    }
   ],
   "source": [
    "marks=[90,25,67,45,80] # 학생들의 시험 점수 리스트\n",
    "\n",
    "for number in range(len(marks)): #range(5) : 0~4\n",
    "    if marks[number]<60:\n",
    "        continue\n",
    "    print(\"%d번 학생은 합격입니다.\"%(number+1))"
   ]
  },
  {
   "cell_type": "markdown",
   "id": "8daa69b3-fd10-4705-8529-b10002b11a5d",
   "metadata": {},
   "source": [
    "### for와 range를 이용한 구구단"
   ]
  },
  {
   "cell_type": "code",
   "execution_count": 48,
   "id": "bd99e970-1694-428f-b175-2e6e6cf3010d",
   "metadata": {},
   "outputs": [
    {
     "name": "stdout",
     "output_type": "stream",
     "text": [
      "2단\n",
      "2 * 1 =2\n",
      "2 * 2 =4\n",
      "2 * 3 =6\n",
      "2 * 4 =8\n",
      "2 * 5 =10\n",
      "2 * 6 =12\n",
      "2 * 7 =14\n",
      "2 * 8 =16\n",
      "2 * 9 =18\n",
      "--------------------\n",
      "3단\n",
      "3 * 1 =3\n",
      "3 * 2 =6\n",
      "3 * 3 =9\n",
      "3 * 4 =12\n",
      "3 * 5 =15\n",
      "3 * 6 =18\n",
      "3 * 7 =21\n",
      "3 * 8 =24\n",
      "3 * 9 =27\n",
      "--------------------\n",
      "4단\n",
      "4 * 1 =4\n",
      "4 * 2 =8\n",
      "4 * 3 =12\n",
      "4 * 4 =16\n",
      "4 * 5 =20\n",
      "4 * 6 =24\n",
      "4 * 7 =28\n",
      "4 * 8 =32\n",
      "4 * 9 =36\n",
      "--------------------\n",
      "5단\n",
      "5 * 1 =5\n",
      "5 * 2 =10\n",
      "5 * 3 =15\n",
      "5 * 4 =20\n",
      "5 * 5 =25\n",
      "5 * 6 =30\n",
      "5 * 7 =35\n",
      "5 * 8 =40\n",
      "5 * 9 =45\n",
      "--------------------\n",
      "6단\n",
      "6 * 1 =6\n",
      "6 * 2 =12\n",
      "6 * 3 =18\n",
      "6 * 4 =24\n",
      "6 * 5 =30\n",
      "6 * 6 =36\n",
      "6 * 7 =42\n",
      "6 * 8 =48\n",
      "6 * 9 =54\n",
      "--------------------\n",
      "7단\n",
      "7 * 1 =7\n",
      "7 * 2 =14\n",
      "7 * 3 =21\n",
      "7 * 4 =28\n",
      "7 * 5 =35\n",
      "7 * 6 =42\n",
      "7 * 7 =49\n",
      "7 * 8 =56\n",
      "7 * 9 =63\n",
      "--------------------\n",
      "8단\n",
      "8 * 1 =8\n",
      "8 * 2 =16\n",
      "8 * 3 =24\n",
      "8 * 4 =32\n",
      "8 * 5 =40\n",
      "8 * 6 =48\n",
      "8 * 7 =56\n",
      "8 * 8 =64\n",
      "8 * 9 =72\n",
      "--------------------\n",
      "9단\n",
      "9 * 1 =9\n",
      "9 * 2 =18\n",
      "9 * 3 =27\n",
      "9 * 4 =36\n",
      "9 * 5 =45\n",
      "9 * 6 =54\n",
      "9 * 7 =63\n",
      "9 * 8 =72\n",
      "9 * 9 =81\n",
      "--------------------\n"
     ]
    }
   ],
   "source": [
    "#구구단\n",
    "\n",
    "for i in range(2,10):\n",
    "    print(\"%d단\"%i)\n",
    "    for j in range(1,10):\n",
    "        print(\"%d * %d =%d\"%(i, j, i*j))\n",
    "    print(\"-\"*20)"
   ]
  },
  {
   "cell_type": "markdown",
   "id": "d8ab02a2-9675-47fa-8bb9-a13b8d8ae202",
   "metadata": {},
   "source": [
    "### 리스트 컴프리헨션(list comprehension) 사용하기"
   ]
  },
  {
   "cell_type": "code",
   "execution_count": 49,
   "id": "73b817ee-216e-4091-96fb-c2169f39ff88",
   "metadata": {},
   "outputs": [
    {
     "name": "stdout",
     "output_type": "stream",
     "text": [
      "[3, 6, 9, 12]\n"
     ]
    }
   ],
   "source": [
    "a=[1,2,3,4]\n",
    "result =[]\n",
    "\n",
    "for num in a:\n",
    "    result.append(num*3)\n",
    "print(result)"
   ]
  },
  {
   "cell_type": "code",
   "execution_count": 50,
   "id": "ea993541-08c7-4398-b22b-22ba259d6f91",
   "metadata": {},
   "outputs": [
    {
     "name": "stdout",
     "output_type": "stream",
     "text": [
      "[3, 6, 9, 12]\n"
     ]
    }
   ],
   "source": [
    "# 리스트 컴프리헨션으로 표현\n",
    "a=[1,2,3,4]\n",
    "result=[num*3 for num in a]\n",
    "print(result)"
   ]
  },
  {
   "cell_type": "code",
   "execution_count": 56,
   "id": "e6901575-1153-4f46-b116-e1ce28811fa4",
   "metadata": {},
   "outputs": [
    {
     "name": "stdout",
     "output_type": "stream",
     "text": [
      "[6, 12]\n"
     ]
    }
   ],
   "source": [
    "a=[1,2,3,4]\n",
    "result=[num*3 for num in a if num%2==0]\n",
    "print(result)"
   ]
  },
  {
   "cell_type": "code",
   "execution_count": 57,
   "id": "241df7a9-d62e-49ea-93af-71d8a99dd5f9",
   "metadata": {},
   "outputs": [
    {
     "name": "stdout",
     "output_type": "stream",
     "text": [
      "[2, 4, 6, 8, 10, 12, 14, 16, 18, 3, 6, 9, 12, 15, 18, 21, 24, 27, 4, 8, 12, 16, 20, 24, 28, 32, 36, 5, 10, 15, 20, 25, 30, 35, 40, 45, 6, 12, 18, 24, 30, 36, 42, 48, 54, 7, 14, 21, 28, 35, 42, 49, 56, 63, 8, 16, 24, 32, 40, 48, 56, 64, 72, 9, 18, 27, 36, 45, 54, 63, 72, 81]\n"
     ]
    }
   ],
   "source": [
    "result=[x*y for x in range(2,10) for y in range(1,10)]\n",
    "print(result)"
   ]
  },
  {
   "cell_type": "markdown",
   "id": "a5619919-7c04-44cf-be50-21dc02555417",
   "metadata": {},
   "source": [
    "## 리스트 컴프리헨션"
   ]
  },
  {
   "cell_type": "markdown",
   "id": "d35e3ea5-50da-46b1-979b-c1662e1e1cda",
   "metadata": {},
   "source": [
    "### 1. 기본 구조 : 표현식 + for문"
   ]
  },
  {
   "cell_type": "code",
   "execution_count": 59,
   "id": "f30bc208-6587-4955-bcfb-a54b5c38b0e5",
   "metadata": {},
   "outputs": [
    {
     "name": "stdout",
     "output_type": "stream",
     "text": [
      "[0, 1, 2, 3, 4]\n"
     ]
    }
   ],
   "source": [
    "#표현식에 변수 또는 상수를 쓰는 경우\n",
    "n=5\n",
    "result=[i for i in range(n)]\n",
    "print(result)"
   ]
  },
  {
   "cell_type": "code",
   "execution_count": 60,
   "id": "54b26dca-b452-47c7-88b4-f985bb38bde6",
   "metadata": {},
   "outputs": [
    {
     "name": "stdout",
     "output_type": "stream",
     "text": [
      "[0, 1, 2, 3, 4, 5, 6, 7, 8, 9]\n"
     ]
    }
   ],
   "source": [
    "array=list(range(10)) #[0,1,2,3,4,5,6,7,8,9]\n",
    "result=[n for n in array]\n",
    "print(result)"
   ]
  },
  {
   "cell_type": "code",
   "execution_count": 62,
   "id": "9e879471-5586-4573-bc9c-fafcea46ee75",
   "metadata": {},
   "outputs": [
    {
     "name": "stdout",
     "output_type": "stream",
     "text": [
      "[0, 1, 4, 9, 16, 25, 36, 49, 64, 81]\n"
     ]
    }
   ],
   "source": [
    "#표현식에 연삭식이나 함수를 쓰는 경우\n",
    "\n",
    "result=[n*n for n in array]\n",
    "print(result)"
   ]
  },
  {
   "cell_type": "code",
   "execution_count": 63,
   "id": "452642f9-440c-4422-b5b5-e8e7a8462ad5",
   "metadata": {},
   "outputs": [
    {
     "name": "stdout",
     "output_type": "stream",
     "text": [
      "[4, 13, 6]\n"
     ]
    }
   ],
   "source": [
    "str_array=[\"List\",\"Comprehension\",\"Python\"]\n",
    "result=[len(string) for string in str_array]\n",
    "print(result)"
   ]
  },
  {
   "cell_type": "code",
   "execution_count": 64,
   "id": "dd3db543-1193-4ba2-974a-0280b030f6ae",
   "metadata": {},
   "outputs": [
    {
     "name": "stdout",
     "output_type": "stream",
     "text": [
      "[0, 1, 2, 3, 4, 0, 1, 2, 3, 4]\n"
     ]
    }
   ],
   "source": [
    "def mod_5(number):\n",
    "    return number %5\n",
    "\n",
    "result=[mod_5(n) for n in array]\n",
    "print(result)"
   ]
  },
  {
   "cell_type": "markdown",
   "id": "4e3e40fc-a23d-4d4e-853a-029373f1f8d4",
   "metadata": {},
   "source": [
    "## 2. 표현식 + for문 + 조건문"
   ]
  },
  {
   "cell_type": "code",
   "execution_count": 67,
   "id": "562f5b02-13d6-431c-9352-33242e1318d2",
   "metadata": {},
   "outputs": [
    {
     "name": "stdout",
     "output_type": "stream",
     "text": [
      "[0, 2, 4, 6, 8]\n"
     ]
    }
   ],
   "source": [
    "#if문 한 번 사용한 경우\n",
    "result=[n for n in range(10) if n%2==0]\n",
    "print(result)"
   ]
  },
  {
   "cell_type": "code",
   "execution_count": 68,
   "id": "f001fcf6-be09-4364-977a-a6e367cfe64e",
   "metadata": {},
   "outputs": [
    {
     "name": "stdout",
     "output_type": "stream",
     "text": [
      "[1, 3, 5, 7, 9]\n"
     ]
    }
   ],
   "source": [
    "result=[n for n in range(10) if n%2!=0]\n",
    "print(result)"
   ]
  },
  {
   "cell_type": "code",
   "execution_count": 69,
   "id": "71d9be7c-a46e-4d1c-b739-53dafdcda816",
   "metadata": {},
   "outputs": [
    {
     "name": "stdout",
     "output_type": "stream",
     "text": [
      "[24, 5, 2]\n"
     ]
    }
   ],
   "source": [
    "array=[-1,0,-4,24,5,-10,2]\n",
    "result=[n for n in array if n>0]\n",
    "print(result)"
   ]
  },
  {
   "cell_type": "code",
   "execution_count": 70,
   "id": "e6921e06-1bfb-4dd6-9fd1-65a2482996d2",
   "metadata": {},
   "outputs": [
    {
     "name": "stdout",
     "output_type": "stream",
     "text": [
      "[-1, 0, -4, -10]\n"
     ]
    }
   ],
   "source": [
    "array=[-1,0,-4,24,5,-10,2]\n",
    "result=[n for n in array if n<=0]\n",
    "print(result)"
   ]
  },
  {
   "cell_type": "code",
   "execution_count": 72,
   "id": "e34aaafc-1364-477e-9b08-04df92a90132",
   "metadata": {},
   "outputs": [
    {
     "name": "stdout",
     "output_type": "stream",
     "text": [
      "[3, 9, 15, 21, 27, 33, 39, 45]\n"
     ]
    }
   ],
   "source": [
    "#if문 여러번 사용한 경우\n",
    "result=[n for n in range(50) if n%3==0 if n%2!=0]\n",
    "print(result)"
   ]
  },
  {
   "cell_type": "code",
   "execution_count": 73,
   "id": "c5784637-302a-477c-bd1c-26cc7c86035a",
   "metadata": {},
   "outputs": [
    {
     "name": "stdout",
     "output_type": "stream",
     "text": [
      "[3, 9, 15, 21, 27, 33, 39, 45]\n"
     ]
    }
   ],
   "source": [
    "result=[n for n in range(50) if n%3==0 and n%2!=0]\n",
    "print(result)"
   ]
  },
  {
   "cell_type": "markdown",
   "id": "8df620cf-32ba-4f4c-be58-3792144884e6",
   "metadata": {},
   "source": [
    "### 3. 표현식 + 조건문 + for문"
   ]
  },
  {
   "cell_type": "code",
   "execution_count": 74,
   "id": "bfeddc51-6c51-4a50-8903-e76aa56386ba",
   "metadata": {},
   "outputs": [
    {
     "name": "stdout",
     "output_type": "stream",
     "text": [
      "[0, 0, 0, 24, 5, 0, 2]\n"
     ]
    }
   ],
   "source": [
    "array=[-1,0,-4,24,5,-10,2]\n",
    "result=[n if n>0 else 0 for n in array]\n",
    "print(result)"
   ]
  },
  {
   "cell_type": "code",
   "execution_count": 75,
   "id": "a7c2a48f-f3c3-4f26-8fad-56a8309bc73c",
   "metadata": {},
   "outputs": [
    {
     "name": "stdout",
     "output_type": "stream",
     "text": [
      "['even', 'odd', 'even', 'odd']\n"
     ]
    }
   ],
   "source": [
    "array=[0,1,2,3]\n",
    "result=['even'if n%2==0 else 'odd' for n in array]\n",
    "print(result)"
   ]
  },
  {
   "cell_type": "markdown",
   "id": "657b6d13-fad3-422d-b830-b43bde851f89",
   "metadata": {},
   "source": [
    "### 4.중첩 for문"
   ]
  },
  {
   "cell_type": "code",
   "execution_count": 77,
   "id": "82a94862-8c4f-44fd-8b7c-e6cb712c7dbc",
   "metadata": {},
   "outputs": [
    {
     "name": "stdout",
     "output_type": "stream",
     "text": [
      "[1, 2, 2, 4, 3, 6]\n",
      "[1, 2, 2, 4, 3, 6]\n"
     ]
    }
   ],
   "source": [
    "#중첩 for문\n",
    "pos=[]\n",
    "for i in range(1,4):\n",
    "    for j in range(1,3):\n",
    "        pos.append(i*j)\n",
    "print(pos)\n",
    "\n",
    "#리스트 컴프리헨션으로\n",
    "pos=[i*j for i in range(1,4) for j in range(1,3)]\n",
    "print(pos)"
   ]
  },
  {
   "cell_type": "markdown",
   "id": "399cfdc6-2982-4725-8ba3-6753284e27cd",
   "metadata": {},
   "source": [
    "### 5. 중첩 List Comprehension"
   ]
  },
  {
   "cell_type": "code",
   "execution_count": 80,
   "id": "341d5bca-e705-4918-a6e9-07af13141437",
   "metadata": {},
   "outputs": [
    {
     "name": "stdout",
     "output_type": "stream",
     "text": [
      "[[0, 0], [0, 0], [0, 0]]\n"
     ]
    }
   ],
   "source": [
    "#2차원 배열 만들기\n",
    "\n",
    "result = [ [ 0 for i in range(2) ] for j in range(3) ]\n",
    "print(result)\n",
    "\n"
   ]
  },
  {
   "cell_type": "code",
   "execution_count": null,
   "id": "62dd19c5-51c4-4fce-b8d9-5b5fad2adee6",
   "metadata": {},
   "outputs": [],
   "source": []
  }
 ],
 "metadata": {
  "kernelspec": {
   "display_name": "Python 3 (ipykernel)",
   "language": "python",
   "name": "python3"
  },
  "language_info": {
   "codemirror_mode": {
    "name": "ipython",
    "version": 3
   },
   "file_extension": ".py",
   "mimetype": "text/x-python",
   "name": "python",
   "nbconvert_exporter": "python",
   "pygments_lexer": "ipython3",
   "version": "3.13.5"
  }
 },
 "nbformat": 4,
 "nbformat_minor": 5
}
