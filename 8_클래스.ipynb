{
 "cells": [
  {
   "cell_type": "markdown",
   "id": "963823c1-9489-478d-88ea-dce5821cfb5d",
   "metadata": {},
   "source": [
    "## 1.클래스는 왜 필요한가??"
   ]
  },
  {
   "cell_type": "code",
   "execution_count": 3,
   "id": "48315613-6b85-46bf-888e-6e58002c9b14",
   "metadata": {},
   "outputs": [
    {
     "name": "stdout",
     "output_type": "stream",
     "text": [
      "3\n",
      "7\n"
     ]
    }
   ],
   "source": [
    "# 함수로 계산기 만들기\n",
    "\n",
    "result=0\n",
    "\n",
    "def add(num):\n",
    "    global result\n",
    "    result +=num\n",
    "    return result\n",
    "\n",
    "print(add(3))\n",
    "print(add(4))"
   ]
  },
  {
   "cell_type": "code",
   "execution_count": 6,
   "id": "96d13807-80e0-4791-9edd-f19b44ad4e0c",
   "metadata": {},
   "outputs": [
    {
     "name": "stdout",
     "output_type": "stream",
     "text": [
      "3\n",
      "7\n",
      "12\n",
      "18\n"
     ]
    }
   ],
   "source": [
    "#계산기 2개로 각각 계산\n",
    "res1=0\n",
    "res2=0\n",
    "\n",
    "def add1(num):\n",
    "    global res1\n",
    "    res1+=num\n",
    "    return res1\n",
    "    \n",
    "def add2(num):\n",
    "    global res2\n",
    "    res2+=num\n",
    "    return res2\n",
    "\n",
    "print(add1(3))\n",
    "print(add1(4))\n",
    "print(add1(5))\n",
    "print(add1(6))"
   ]
  },
  {
   "cell_type": "code",
   "execution_count": 9,
   "id": "d89f16c4-3291-4b96-8f5a-f4d1e4843435",
   "metadata": {},
   "outputs": [
    {
     "name": "stdout",
     "output_type": "stream",
     "text": [
      "3\n",
      "7\n",
      "5\n",
      "11\n"
     ]
    }
   ],
   "source": [
    "#클래스로 여러개 계산기 만들기\n",
    "\n",
    "class Calculator:\n",
    "    def __init__(self):\n",
    "        self.result=0 #계산기 초기값\n",
    "\n",
    "    def add(self,num):\n",
    "        self.result+=num\n",
    "        return self.result\n",
    "\n",
    "cal1=Calculator()\n",
    "cal2=Calculator()\n",
    "\n",
    "\n",
    "print(cal1.add(3))\n",
    "print(cal1.add(4))\n",
    "print(cal2.add(5))\n",
    "print(cal2.add(6))"
   ]
  },
  {
   "cell_type": "code",
   "execution_count": 12,
   "id": "e390f472-a457-4cd3-962d-b8a9f2dce544",
   "metadata": {},
   "outputs": [
    {
     "name": "stdout",
     "output_type": "stream",
     "text": [
      "10\n",
      "13\n",
      "8\n",
      "--------------------\n",
      "-5\n",
      "15\n"
     ]
    }
   ],
   "source": [
    "#더하기 / 빼기 기능이 있는 계산기의 설계도(class)\n",
    "\n",
    "class Calculator:\n",
    "    def __init__(self):\n",
    "        self.result=0 #계산기 초기값\n",
    "\n",
    "    def add(self,num):\n",
    "        self.result+=num\n",
    "        return self.result\n",
    "    def sub(self,num):\n",
    "        self.result-=num\n",
    "        return self.result\n",
    "\n",
    "cal1=Calculator()\n",
    "print(cal1.add(10))\n",
    "print(cal1.add(3))\n",
    "print(cal1.sub(5))\n",
    "print('-'*20)\n",
    "cal2 =Calculator()\n",
    "print(cal2.sub(5))\n",
    "print(cal2.add(20))"
   ]
  },
  {
   "cell_type": "markdown",
   "id": "ad08ae0e-8f52-40a3-a885-6d6030c2296a",
   "metadata": {},
   "source": [
    "### 사칙연산 클래스 만들기"
   ]
  },
  {
   "cell_type": "code",
   "execution_count": 13,
   "id": "9800b9c3-b422-4655-8b14-501f0cee6632",
   "metadata": {},
   "outputs": [],
   "source": [
    "class FourCal:\n",
    "    pass"
   ]
  },
  {
   "cell_type": "code",
   "execution_count": 14,
   "id": "144d9ebc-a9d3-4385-bbc5-d87c8f8b4c2e",
   "metadata": {},
   "outputs": [
    {
     "data": {
      "text/plain": [
       "__main__.FourCal"
      ]
     },
     "execution_count": 14,
     "metadata": {},
     "output_type": "execute_result"
    }
   ],
   "source": [
    "a=FourCal()\n",
    "type(a)"
   ]
  },
  {
   "cell_type": "code",
   "execution_count": 15,
   "id": "b98f294d-d66b-49fc-911e-fb650ec60fe8",
   "metadata": {},
   "outputs": [],
   "source": [
    "class FourCal:\n",
    "    def setdata(self, first, second):\n",
    "        self.first=first\n",
    "        self.second=second    "
   ]
  },
  {
   "cell_type": "code",
   "execution_count": 17,
   "id": "84c5d687-8e08-4864-8937-ac5f55635d1f",
   "metadata": {},
   "outputs": [
    {
     "name": "stdout",
     "output_type": "stream",
     "text": [
      "3 4\n"
     ]
    }
   ],
   "source": [
    "a=FourCal() #인스턴스 생성\n",
    "a.setdata(3,4)\n",
    "print(a.first,a.second)"
   ]
  },
  {
   "cell_type": "code",
   "execution_count": 18,
   "id": "48291250-3922-4c0d-9508-d5af1ea7bc05",
   "metadata": {},
   "outputs": [
    {
     "name": "stdout",
     "output_type": "stream",
     "text": [
      "6\n",
      "2\n",
      "8\n",
      "2.0\n",
      "***********************************\n",
      "11\n",
      "-5\n",
      "24\n",
      "0.375\n"
     ]
    }
   ],
   "source": [
    "class FourCal:\n",
    "    def setdata(self, first, second):\n",
    "        self.first=first\n",
    "        self.second=second\n",
    "    def add(self):\n",
    "        result=self.first+self.second\n",
    "        return result\n",
    "    def sub(self):\n",
    "        result=self.first-self.second\n",
    "        return result\n",
    "    def mul(self):\n",
    "        result=self.first*self.second\n",
    "        return result\n",
    "    def div(self):\n",
    "        result=self.first/self.second\n",
    "        return result\n",
    "\n",
    "cal1=FourCal() #계산기1\n",
    "cal2=FourCal() #계산기2\n",
    "\n",
    "#계산기에 2개의 숫자 입력\n",
    "cal1.setdata(4,2)\n",
    "cal2.setdata(3,8)\n",
    "\n",
    "print(cal1.add())\n",
    "print(cal1.sub())\n",
    "print(cal1.mul())\n",
    "print(cal1.div())\n",
    "print('*'*35)\n",
    "print(cal2.add())\n",
    "print(cal2.sub())\n",
    "print(cal2.mul())\n",
    "print(cal2.div())"
   ]
  },
  {
   "cell_type": "markdown",
   "id": "d6803a43-fa44-46ef-a818-fa24492dad9c",
   "metadata": {},
   "source": [
    "### 생성자"
   ]
  },
  {
   "cell_type": "code",
   "execution_count": 19,
   "id": "3e24a9a4-60cb-4057-8adc-a5242398986d",
   "metadata": {},
   "outputs": [],
   "source": [
    "class FourCal:\n",
    "    def __init__(self, first, second):\n",
    "        self.first=first\n",
    "        self.second=second\n",
    "    def add(self):\n",
    "        result=self.first+self.second\n",
    "        return result\n",
    "    def sub(self):\n",
    "        result=self.first-self.second\n",
    "        return result\n",
    "    def mul(self):\n",
    "        result=self.first*self.second\n",
    "        return result\n",
    "    def div(self):\n",
    "        result=self.first/self.second\n",
    "        return result"
   ]
  },
  {
   "cell_type": "code",
   "execution_count": 20,
   "id": "12754c85-934a-4af4-8686-9f9bdf53511e",
   "metadata": {},
   "outputs": [
    {
     "ename": "TypeError",
     "evalue": "FourCal.__init__() missing 2 required positional arguments: 'first' and 'second'",
     "output_type": "error",
     "traceback": [
      "\u001b[1;31m---------------------------------------------------------------------------\u001b[0m",
      "\u001b[1;31mTypeError\u001b[0m                                 Traceback (most recent call last)",
      "Cell \u001b[1;32mIn[20], line 1\u001b[0m\n\u001b[1;32m----> 1\u001b[0m calc1 \u001b[38;5;241m=\u001b[39mFourCal()\n",
      "\u001b[1;31mTypeError\u001b[0m: FourCal.__init__() missing 2 required positional arguments: 'first' and 'second'"
     ]
    }
   ],
   "source": [
    "calc1 =FourCal()"
   ]
  },
  {
   "cell_type": "code",
   "execution_count": 21,
   "id": "caf58574-9cf7-4398-bac4-3fe17536be28",
   "metadata": {},
   "outputs": [],
   "source": [
    "calc1 =FourCal(15,3)"
   ]
  },
  {
   "cell_type": "code",
   "execution_count": 22,
   "id": "a85b55aa-2c71-4d9d-8613-8633f2bf350b",
   "metadata": {},
   "outputs": [
    {
     "data": {
      "text/plain": [
       "15"
      ]
     },
     "execution_count": 22,
     "metadata": {},
     "output_type": "execute_result"
    }
   ],
   "source": [
    "calc1.first"
   ]
  },
  {
   "cell_type": "code",
   "execution_count": 24,
   "id": "a9fc05eb-32f1-4612-8cce-b7fe7fee858c",
   "metadata": {},
   "outputs": [
    {
     "data": {
      "text/plain": [
       "3"
      ]
     },
     "execution_count": 24,
     "metadata": {},
     "output_type": "execute_result"
    }
   ],
   "source": [
    "calc1.second"
   ]
  },
  {
   "cell_type": "code",
   "execution_count": 27,
   "id": "1e960577-1530-4449-a0c6-951180d79e48",
   "metadata": {},
   "outputs": [
    {
     "name": "stdout",
     "output_type": "stream",
     "text": [
      " 15 + 3 =  18\n",
      " 15 - 3 =  12\n",
      " 15 * 3 =  45\n",
      " 15 / 3 =  5.0\n"
     ]
    }
   ],
   "source": [
    "print(' 15 + 3 = ',calc1.add())\n",
    "print(' 15 - 3 = ',calc1.sub())\n",
    "print(' 15 * 3 = ',calc1.mul())\n",
    "print(' 15 / 3 = ',calc1.div())"
   ]
  },
  {
   "cell_type": "markdown",
   "id": "099b5b36-92ec-440c-86f5-0765d3efafab",
   "metadata": {},
   "source": [
    "### 클래스 상속"
   ]
  },
  {
   "cell_type": "code",
   "execution_count": 28,
   "id": "d646d240-b796-4e88-b240-c18545128fa4",
   "metadata": {},
   "outputs": [],
   "source": [
    "class MoreFourcal(FourCal):\n",
    "    pass"
   ]
  },
  {
   "cell_type": "code",
   "execution_count": 29,
   "id": "fd75addf-238f-41d4-a2f1-a4a74f51e82e",
   "metadata": {},
   "outputs": [],
   "source": [
    "cal1=MoreFourcal(4,2)"
   ]
  },
  {
   "cell_type": "code",
   "execution_count": 30,
   "id": "8a511ea3-0559-4576-95a2-0391c36237cf",
   "metadata": {},
   "outputs": [
    {
     "name": "stdout",
     "output_type": "stream",
     "text": [
      "6\n",
      "2\n",
      "8\n",
      "2.0\n"
     ]
    }
   ],
   "source": [
    "print(cal1.add())\n",
    "print(cal1.sub())\n",
    "print(cal1.mul())\n",
    "print(cal1.div())"
   ]
  },
  {
   "cell_type": "code",
   "execution_count": 31,
   "id": "ecac6f67-338f-464b-a1bf-6b829bcab6f5",
   "metadata": {},
   "outputs": [
    {
     "name": "stdout",
     "output_type": "stream",
     "text": [
      "6\n",
      "2\n",
      "8\n",
      "2.0\n",
      "16\n"
     ]
    }
   ],
   "source": [
    "#MoreFourcal 만의 기능 추가\n",
    "class MoreFourcal(FourCal):\n",
    "    def pow(self):\n",
    "        result = self.first ** self.second\n",
    "        return result\n",
    "\n",
    "cal2 = MoreFourcal(4,2)\n",
    "print(cal2.add())\n",
    "print(cal2.sub())\n",
    "print(cal2.mul())\n",
    "print(cal2.div())\n",
    "print(cal2.pow())"
   ]
  },
  {
   "cell_type": "code",
   "execution_count": 32,
   "id": "0e1315fe-346c-4e25-8a25-51ef7b5a79f2",
   "metadata": {},
   "outputs": [
    {
     "name": "stdout",
     "output_type": "stream",
     "text": [
      "4\n",
      "4\n",
      "0\n"
     ]
    }
   ],
   "source": [
    "cal3=MoreFourcal(4,0)\n",
    "print(cal3.add())\n",
    "print(cal3.sub())\n",
    "print(cal3.mul())"
   ]
  },
  {
   "cell_type": "code",
   "execution_count": 33,
   "id": "9f581077-b523-45ee-ac21-03957bedcc63",
   "metadata": {},
   "outputs": [
    {
     "ename": "ZeroDivisionError",
     "evalue": "division by zero",
     "output_type": "error",
     "traceback": [
      "\u001b[1;31m---------------------------------------------------------------------------\u001b[0m",
      "\u001b[1;31mZeroDivisionError\u001b[0m                         Traceback (most recent call last)",
      "Cell \u001b[1;32mIn[33], line 1\u001b[0m\n\u001b[1;32m----> 1\u001b[0m \u001b[38;5;28mprint\u001b[39m(cal3\u001b[38;5;241m.\u001b[39mdiv())\n",
      "Cell \u001b[1;32mIn[19], line 15\u001b[0m, in \u001b[0;36mFourCal.div\u001b[1;34m(self)\u001b[0m\n\u001b[0;32m     14\u001b[0m \u001b[38;5;28;01mdef\u001b[39;00m\u001b[38;5;250m \u001b[39m\u001b[38;5;21mdiv\u001b[39m(\u001b[38;5;28mself\u001b[39m):\n\u001b[1;32m---> 15\u001b[0m     result\u001b[38;5;241m=\u001b[39m\u001b[38;5;28mself\u001b[39m\u001b[38;5;241m.\u001b[39mfirst\u001b[38;5;241m/\u001b[39m\u001b[38;5;28mself\u001b[39m\u001b[38;5;241m.\u001b[39msecond\n\u001b[0;32m     16\u001b[0m     \u001b[38;5;28;01mreturn\u001b[39;00m result\n",
      "\u001b[1;31mZeroDivisionError\u001b[0m: division by zero"
     ]
    }
   ],
   "source": [
    "print(cal3.div())"
   ]
  },
  {
   "cell_type": "markdown",
   "id": "8e90d2df-0bd7-43aa-9823-91c1bb17a7e9",
   "metadata": {},
   "source": [
    "### 메서드 오버라이딩"
   ]
  },
  {
   "cell_type": "code",
   "execution_count": 34,
   "id": "1286b7de-8696-4103-957f-33d9da69f093",
   "metadata": {},
   "outputs": [],
   "source": [
    "class SafeFourCal(FourCal):\n",
    "    #상속받은 메서드 재정의(overriding)\n",
    "    def div(self):\n",
    "        if self.second == 0:\n",
    "            return 0\n",
    "        else:\n",
    "            result= self.first / self.second\n",
    "            return result"
   ]
  },
  {
   "cell_type": "code",
   "execution_count": 37,
   "id": "0ec0cc2d-3eda-4c9f-a02e-8fd7e9316d50",
   "metadata": {},
   "outputs": [],
   "source": [
    "calc=SafeFourCal(4,0)"
   ]
  },
  {
   "cell_type": "code",
   "execution_count": 38,
   "id": "da9bcec7-74ef-470e-aa5d-a7a7ca38d7a3",
   "metadata": {},
   "outputs": [
    {
     "name": "stdout",
     "output_type": "stream",
     "text": [
      "4\n",
      "4\n",
      "0\n",
      "0\n"
     ]
    }
   ],
   "source": [
    "print(calc.add())\n",
    "print(calc.sub())\n",
    "print(calc.mul())\n",
    "print(calc.div())"
   ]
  },
  {
   "cell_type": "code",
   "execution_count": 39,
   "id": "6b45f193-5410-47ab-997e-349387141e7f",
   "metadata": {},
   "outputs": [],
   "source": [
    "class Family:\n",
    "    lastname =\"김\""
   ]
  },
  {
   "cell_type": "code",
   "execution_count": 40,
   "id": "f6661282-6886-455f-8424-ec48ddaa8440",
   "metadata": {},
   "outputs": [
    {
     "data": {
      "text/plain": [
       "'김'"
      ]
     },
     "execution_count": 40,
     "metadata": {},
     "output_type": "execute_result"
    }
   ],
   "source": [
    "Family.lastname"
   ]
  },
  {
   "cell_type": "code",
   "execution_count": 41,
   "id": "0d5b1a8f-5b35-43c1-8598-4eafc8877721",
   "metadata": {},
   "outputs": [
    {
     "name": "stdout",
     "output_type": "stream",
     "text": [
      "김\n",
      "김\n"
     ]
    }
   ],
   "source": [
    "a=Family()\n",
    "b=Family()\n",
    "print(a.lastname)\n",
    "print(b.lastname)"
   ]
  },
  {
   "cell_type": "code",
   "execution_count": 44,
   "id": "46a437cd-4220-436a-8073-17bb67f130c3",
   "metadata": {},
   "outputs": [
    {
     "name": "stdout",
     "output_type": "stream",
     "text": [
      "박\n",
      "박\n"
     ]
    }
   ],
   "source": [
    "#클래스 변수 변경\n",
    "Family.lastname='박'\n",
    "# Family.lastname=> 클래스 변수,클래스 변수를 변경하면 인스턴스 변수도 변경됨\n",
    "print(a.lastname)\n",
    "print(b.lastname)"
   ]
  },
  {
   "cell_type": "code",
   "execution_count": 46,
   "id": "fedfc4c1-922c-41b1-8312-ac108c213de3",
   "metadata": {},
   "outputs": [
    {
     "name": "stdout",
     "output_type": "stream",
     "text": [
      "최\n",
      "박\n"
     ]
    }
   ],
   "source": [
    "#인스턴스 변수만 변경\n",
    "a.lastname ='최'\n",
    "print(a.lastname) #인스턴스 변수를 변경하면 해당 인스턴스 변수만 변경됨\n",
    "print(b.lastname)"
   ]
  },
  {
   "cell_type": "code",
   "execution_count": null,
   "id": "1c10a782-3fbf-4eb6-af56-e374492af341",
   "metadata": {},
   "outputs": [],
   "source": []
  }
 ],
 "metadata": {
  "kernelspec": {
   "display_name": "Python 3 (ipykernel)",
   "language": "python",
   "name": "python3"
  },
  "language_info": {
   "codemirror_mode": {
    "name": "ipython",
    "version": 3
   },
   "file_extension": ".py",
   "mimetype": "text/x-python",
   "name": "python",
   "nbconvert_exporter": "python",
   "pygments_lexer": "ipython3",
   "version": "3.13.5"
  }
 },
 "nbformat": 4,
 "nbformat_minor": 5
}
