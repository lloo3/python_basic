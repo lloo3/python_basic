{
 "cells": [
  {
   "cell_type": "markdown",
   "id": "de170e48-2002-4bc5-887e-f4698b508956",
   "metadata": {},
   "source": [
    "#### abs() :절댓값"
   ]
  },
  {
   "cell_type": "code",
   "execution_count": 1,
   "id": "b5d6b87e-d0f2-4647-9943-381e6977c32e",
   "metadata": {},
   "outputs": [
    {
     "name": "stdout",
     "output_type": "stream",
     "text": [
      "3\n",
      "3\n"
     ]
    }
   ],
   "source": [
    "print(abs(3))\n",
    "print(abs(-3))"
   ]
  },
  {
   "cell_type": "markdown",
   "id": "164c093b-101b-4386-a311-edc6f9611a19",
   "metadata": {},
   "source": [
    "#### all():반복가능한 데이터에서 각요소 확인하여 모든 요소가 참이면 True"
   ]
  },
  {
   "cell_type": "code",
   "execution_count": 2,
   "id": "8c887f6e-048a-44d8-9820-e7ad760767f8",
   "metadata": {},
   "outputs": [
    {
     "data": {
      "text/plain": [
       "True"
      ]
     },
     "execution_count": 2,
     "metadata": {},
     "output_type": "execute_result"
    }
   ],
   "source": [
    "all([1, 2, 3])"
   ]
  },
  {
   "cell_type": "code",
   "execution_count": 7,
   "id": "8fd3e4d5-d16e-424a-b60d-099e229eb0f2",
   "metadata": {},
   "outputs": [
    {
     "data": {
      "text/plain": [
       "True"
      ]
     },
     "execution_count": 7,
     "metadata": {},
     "output_type": "execute_result"
    }
   ],
   "source": [
    "all([]) # 빈 값인 경우 True 리턴"
   ]
  },
  {
   "cell_type": "code",
   "execution_count": 8,
   "id": "90a62ed2-adee-470c-8f28-a127aa34cc50",
   "metadata": {},
   "outputs": [
    {
     "data": {
      "text/plain": [
       "True"
      ]
     },
     "execution_count": 8,
     "metadata": {},
     "output_type": "execute_result"
    }
   ],
   "source": [
    "all(\"\") # 빈 값인 경우 True 리턴"
   ]
  },
  {
   "cell_type": "markdown",
   "id": "6e91e761-06f3-4b15-8387-1d1503afb011",
   "metadata": {},
   "source": [
    "#### any():반복가능한 데이터에서 각요소에 하나라도 참이면 True, all()과 반대"
   ]
  },
  {
   "cell_type": "code",
   "execution_count": 9,
   "id": "facc07ab-cd90-4273-ab92-ce1ebe025310",
   "metadata": {},
   "outputs": [
    {
     "data": {
      "text/plain": [
       "True"
      ]
     },
     "execution_count": 9,
     "metadata": {},
     "output_type": "execute_result"
    }
   ],
   "source": [
    "any([1,0])"
   ]
  },
  {
   "cell_type": "code",
   "execution_count": 10,
   "id": "f584a4a0-7243-49e1-8cce-50407b4ffc02",
   "metadata": {},
   "outputs": [
    {
     "data": {
      "text/plain": [
       "False"
      ]
     },
     "execution_count": 10,
     "metadata": {},
     "output_type": "execute_result"
    }
   ],
   "source": [
    "any([0,\"\"])"
   ]
  },
  {
   "cell_type": "code",
   "execution_count": 11,
   "id": "c6e2f1e7-ae6e-421d-a176-68470a1234f3",
   "metadata": {},
   "outputs": [
    {
     "data": {
      "text/plain": [
       "False"
      ]
     },
     "execution_count": 11,
     "metadata": {},
     "output_type": "execute_result"
    }
   ],
   "source": [
    "any([])  # 빈 값인 경우 False 리턴"
   ]
  },
  {
   "cell_type": "markdown",
   "id": "fb5dda7b-cdc2-4cfa-8b0d-64182901d4bf",
   "metadata": {},
   "source": [
    "#### chr(): 유니코드값 반환"
   ]
  },
  {
   "cell_type": "code",
   "execution_count": 12,
   "id": "fc3acc05-626f-4a2f-9a80-ff1dfde4f69a",
   "metadata": {},
   "outputs": [
    {
     "data": {
      "text/plain": [
       "'a'"
      ]
     },
     "execution_count": 12,
     "metadata": {},
     "output_type": "execute_result"
    }
   ],
   "source": [
    "chr(97)"
   ]
  },
  {
   "cell_type": "code",
   "execution_count": 13,
   "id": "90acb3e0-2384-4f82-9cea-8a391037002f",
   "metadata": {},
   "outputs": [
    {
     "data": {
      "text/plain": [
       "'A'"
      ]
     },
     "execution_count": 13,
     "metadata": {},
     "output_type": "execute_result"
    }
   ],
   "source": [
    "chr(65)"
   ]
  },
  {
   "cell_type": "code",
   "execution_count": 14,
   "id": "53e96603-e5b6-464f-bec1-f8bee3de42d0",
   "metadata": {},
   "outputs": [
    {
     "data": {
      "text/plain": [
       "'가'"
      ]
     },
     "execution_count": 14,
     "metadata": {},
     "output_type": "execute_result"
    }
   ],
   "source": [
    "chr(44032)"
   ]
  },
  {
   "cell_type": "markdown",
   "id": "48c0c450-40ef-4993-b0da-9ec719b154c0",
   "metadata": {},
   "source": [
    "#### dir(): 객체가 지닌 변수나 함수를 보여 주는 함수\n",
    "\n"
   ]
  },
  {
   "cell_type": "code",
   "execution_count": 15,
   "id": "69b114c9-9b6d-454f-931e-65245f4065b3",
   "metadata": {},
   "outputs": [
    {
     "data": {
      "text/plain": [
       "['__add__',\n",
       " '__class__',\n",
       " '__class_getitem__',\n",
       " '__contains__',\n",
       " '__delattr__',\n",
       " '__delitem__',\n",
       " '__dir__',\n",
       " '__doc__',\n",
       " '__eq__',\n",
       " '__format__',\n",
       " '__ge__',\n",
       " '__getattribute__',\n",
       " '__getitem__',\n",
       " '__getstate__',\n",
       " '__gt__',\n",
       " '__hash__',\n",
       " '__iadd__',\n",
       " '__imul__',\n",
       " '__init__',\n",
       " '__init_subclass__',\n",
       " '__iter__',\n",
       " '__le__',\n",
       " '__len__',\n",
       " '__lt__',\n",
       " '__mul__',\n",
       " '__ne__',\n",
       " '__new__',\n",
       " '__reduce__',\n",
       " '__reduce_ex__',\n",
       " '__repr__',\n",
       " '__reversed__',\n",
       " '__rmul__',\n",
       " '__setattr__',\n",
       " '__setitem__',\n",
       " '__sizeof__',\n",
       " '__str__',\n",
       " '__subclasshook__',\n",
       " 'append',\n",
       " 'clear',\n",
       " 'copy',\n",
       " 'count',\n",
       " 'extend',\n",
       " 'index',\n",
       " 'insert',\n",
       " 'pop',\n",
       " 'remove',\n",
       " 'reverse',\n",
       " 'sort']"
      ]
     },
     "execution_count": 15,
     "metadata": {},
     "output_type": "execute_result"
    }
   ],
   "source": [
    "dir([1, 2, 3])"
   ]
  },
  {
   "cell_type": "code",
   "execution_count": 16,
   "id": "ab3bf9d7-6ffa-4542-b9c4-92c0c1aaed61",
   "metadata": {},
   "outputs": [
    {
     "data": {
      "text/plain": [
       "['__add__',\n",
       " '__class__',\n",
       " '__contains__',\n",
       " '__delattr__',\n",
       " '__dir__',\n",
       " '__doc__',\n",
       " '__eq__',\n",
       " '__format__',\n",
       " '__ge__',\n",
       " '__getattribute__',\n",
       " '__getitem__',\n",
       " '__getnewargs__',\n",
       " '__getstate__',\n",
       " '__gt__',\n",
       " '__hash__',\n",
       " '__init__',\n",
       " '__init_subclass__',\n",
       " '__iter__',\n",
       " '__le__',\n",
       " '__len__',\n",
       " '__lt__',\n",
       " '__mod__',\n",
       " '__mul__',\n",
       " '__ne__',\n",
       " '__new__',\n",
       " '__reduce__',\n",
       " '__reduce_ex__',\n",
       " '__repr__',\n",
       " '__rmod__',\n",
       " '__rmul__',\n",
       " '__setattr__',\n",
       " '__sizeof__',\n",
       " '__str__',\n",
       " '__subclasshook__',\n",
       " 'capitalize',\n",
       " 'casefold',\n",
       " 'center',\n",
       " 'count',\n",
       " 'encode',\n",
       " 'endswith',\n",
       " 'expandtabs',\n",
       " 'find',\n",
       " 'format',\n",
       " 'format_map',\n",
       " 'index',\n",
       " 'isalnum',\n",
       " 'isalpha',\n",
       " 'isascii',\n",
       " 'isdecimal',\n",
       " 'isdigit',\n",
       " 'isidentifier',\n",
       " 'islower',\n",
       " 'isnumeric',\n",
       " 'isprintable',\n",
       " 'isspace',\n",
       " 'istitle',\n",
       " 'isupper',\n",
       " 'join',\n",
       " 'ljust',\n",
       " 'lower',\n",
       " 'lstrip',\n",
       " 'maketrans',\n",
       " 'partition',\n",
       " 'removeprefix',\n",
       " 'removesuffix',\n",
       " 'replace',\n",
       " 'rfind',\n",
       " 'rindex',\n",
       " 'rjust',\n",
       " 'rpartition',\n",
       " 'rsplit',\n",
       " 'rstrip',\n",
       " 'split',\n",
       " 'splitlines',\n",
       " 'startswith',\n",
       " 'strip',\n",
       " 'swapcase',\n",
       " 'title',\n",
       " 'translate',\n",
       " 'upper',\n",
       " 'zfill']"
      ]
     },
     "execution_count": 16,
     "metadata": {},
     "output_type": "execute_result"
    }
   ],
   "source": [
    "dir(\"\")"
   ]
  },
  {
   "cell_type": "markdown",
   "id": "8afbb58b-bcfa-48a3-b195-a605a7ef9436",
   "metadata": {},
   "source": [
    "#### divmod() :두수 나누기후 몫과 나머지를 튜플로 반환"
   ]
  },
  {
   "cell_type": "code",
   "execution_count": 17,
   "id": "032a3d1c-2194-4110-848f-be63a1dab0c2",
   "metadata": {},
   "outputs": [
    {
     "data": {
      "text/plain": [
       "(2, 1)"
      ]
     },
     "execution_count": 17,
     "metadata": {},
     "output_type": "execute_result"
    }
   ],
   "source": [
    "divmod(7, 3)"
   ]
  },
  {
   "cell_type": "code",
   "execution_count": 18,
   "id": "3ff631b4-d372-413e-9f68-4e66c4770bea",
   "metadata": {},
   "outputs": [
    {
     "data": {
      "text/plain": [
       "2"
      ]
     },
     "execution_count": 18,
     "metadata": {},
     "output_type": "execute_result"
    }
   ],
   "source": [
    "7//3"
   ]
  },
  {
   "cell_type": "code",
   "execution_count": 19,
   "id": "c414eb67-17a3-4d60-8190-8c7f5fcfc3a2",
   "metadata": {},
   "outputs": [
    {
     "data": {
      "text/plain": [
       "1"
      ]
     },
     "execution_count": 19,
     "metadata": {},
     "output_type": "execute_result"
    }
   ],
   "source": [
    "7%3"
   ]
  },
  {
   "cell_type": "markdown",
   "id": "73530974-b87e-4f55-9d29-6f5345e2472b",
   "metadata": {},
   "source": [
    "#### enumerate():인덱스 값을 포함하는 enumerate 객체를 리턴"
   ]
  },
  {
   "cell_type": "code",
   "execution_count": 20,
   "id": "f2c7f2a0-5b3a-47dc-814c-12882a95e3f7",
   "metadata": {},
   "outputs": [
    {
     "name": "stdout",
     "output_type": "stream",
     "text": [
      "0 body\n",
      "1 foo\n",
      "2 bar\n"
     ]
    }
   ],
   "source": [
    " for i, name in enumerate(['body', 'foo', 'bar']):\n",
    "     print(i, name)"
   ]
  },
  {
   "cell_type": "code",
   "execution_count": 27,
   "id": "b0cb3bfd-f6ef-47c8-8b02-54c8476e6bbb",
   "metadata": {},
   "outputs": [
    {
     "name": "stdout",
     "output_type": "stream",
     "text": [
      "0 bar\n",
      "1 bar\n",
      "2 bar\n"
     ]
    }
   ],
   "source": [
    " for i, item in enumerate({'a':1, 'b':2, 'c':3}.items()):\n",
    "     print(i, name)"
   ]
  },
  {
   "cell_type": "markdown",
   "id": "95a135d6-c898-4437-ba11-269b9a10c259",
   "metadata": {},
   "source": [
    "#### eval():표현식을 입력으로 받아 해당 문자열을 실행한 결과 값을 리턴"
   ]
  },
  {
   "cell_type": "code",
   "execution_count": 21,
   "id": "17cce9c8-ac67-4a96-96fb-741fc0db575d",
   "metadata": {},
   "outputs": [
    {
     "data": {
      "text/plain": [
       "3"
      ]
     },
     "execution_count": 21,
     "metadata": {},
     "output_type": "execute_result"
    }
   ],
   "source": [
    " eval('1+2')"
   ]
  },
  {
   "cell_type": "code",
   "execution_count": 22,
   "id": "d09c7af2-2790-47af-a534-d443471f871b",
   "metadata": {},
   "outputs": [
    {
     "data": {
      "text/plain": [
       "'hia'"
      ]
     },
     "execution_count": 22,
     "metadata": {},
     "output_type": "execute_result"
    }
   ],
   "source": [
    "eval(\"'hi' + 'a'\")"
   ]
  },
  {
   "cell_type": "code",
   "execution_count": 23,
   "id": "6fe518e9-d860-45b1-876e-391893e33d3d",
   "metadata": {},
   "outputs": [
    {
     "data": {
      "text/plain": [
       "(1, 1)"
      ]
     },
     "execution_count": 23,
     "metadata": {},
     "output_type": "execute_result"
    }
   ],
   "source": [
    "eval('divmod(4, 3)')"
   ]
  },
  {
   "cell_type": "code",
   "execution_count": 24,
   "id": "48dd7449-0f92-44ae-a994-a4019b8da4e4",
   "metadata": {},
   "outputs": [
    {
     "name": "stdout",
     "output_type": "stream",
     "text": [
      "3\n"
     ]
    }
   ],
   "source": [
    "print(1+2)"
   ]
  },
  {
   "cell_type": "markdown",
   "id": "1d458bca-e0fb-43c6-9059-c760f04c32e7",
   "metadata": {},
   "source": [
    "#### filter():리턴값이 참인 것만 묶어서(걸러 내서) 리턴"
   ]
  },
  {
   "cell_type": "code",
   "execution_count": 29,
   "id": "081898d9-45b7-4934-b2b5-31b2fcfa9470",
   "metadata": {},
   "outputs": [
    {
     "name": "stdout",
     "output_type": "stream",
     "text": [
      "[1, 2, 6]\n"
     ]
    }
   ],
   "source": [
    "#일반함수로 양수값만 리턴\n",
    "def positive(list):\n",
    "    result = [] \n",
    "    for i in list: \n",
    "        if i > 0: \n",
    "            result.append(i) \n",
    "    return result\n",
    "print(positive([1,-3,2,0,-5,6]))"
   ]
  },
  {
   "cell_type": "code",
   "execution_count": 31,
   "id": "80770c2f-d71a-44ea-a81b-e0d9058b4083",
   "metadata": {},
   "outputs": [
    {
     "name": "stdout",
     "output_type": "stream",
     "text": [
      "[1, 2, 6]\n"
     ]
    }
   ],
   "source": [
    "#filter함수로 양수값만 리턴\n",
    "def positive(x):\n",
    "    return x>0\n",
    "\n",
    "print(list(filter(positive,[1,-3,2,0,-5,6])))"
   ]
  },
  {
   "cell_type": "code",
   "execution_count": 26,
   "id": "4e953ded-bcbe-49d8-bfaa-36df6a796111",
   "metadata": {},
   "outputs": [
    {
     "data": {
      "text/plain": [
       "[1, 2, 6]"
      ]
     },
     "execution_count": 26,
     "metadata": {},
     "output_type": "execute_result"
    }
   ],
   "source": [
    "#lambda함수로 양수값만 리턴\n",
    "\n",
    "list(filter(lambda x: x > 0, [1, -3, 2, 0, -5, 6]))"
   ]
  },
  {
   "cell_type": "markdown",
   "id": "000fedb0-72f8-4d3b-9aa9-6a254932263b",
   "metadata": {},
   "source": [
    "#### map():map안에서 선언한 함수의 결과값을 반환"
   ]
  },
  {
   "cell_type": "code",
   "execution_count": 33,
   "id": "21324ccc-4974-4d5d-93ad-62b8f07e6e69",
   "metadata": {},
   "outputs": [
    {
     "name": "stdout",
     "output_type": "stream",
     "text": [
      "[2, 4, 6, 8]\n"
     ]
    }
   ],
   "source": [
    "#일반함수로 리스트 각 요소에 *2\n",
    "def two_times(list):\n",
    "    result=[]\n",
    "    for i in list:\n",
    "        result.append(i*2)\n",
    "    return result\n",
    "print(two_times([1,2,3,4]))"
   ]
  },
  {
   "cell_type": "code",
   "execution_count": 36,
   "id": "896ef658-57d4-4b94-8b7a-9bd4717c15a7",
   "metadata": {},
   "outputs": [
    {
     "data": {
      "text/plain": [
       "[2, 4, 6, 8]"
      ]
     },
     "execution_count": 36,
     "metadata": {},
     "output_type": "execute_result"
    }
   ],
   "source": [
    "#map함수로 리스트 각 요소에 *2\n",
    "def two_times(x):\n",
    "    return x*2\n",
    "list(map (two_times,[1,2,3,4]))"
   ]
  },
  {
   "cell_type": "code",
   "execution_count": 38,
   "id": "72621680-19a7-458c-a1c2-3eef90d60801",
   "metadata": {},
   "outputs": [
    {
     "data": {
      "text/plain": [
       "[2, 4, 6, 8]"
      ]
     },
     "execution_count": 38,
     "metadata": {},
     "output_type": "execute_result"
    }
   ],
   "source": [
    "#lambda 함수로\n",
    "list(map(lambda x:x*2,[1,2,3,4]))"
   ]
  },
  {
   "cell_type": "markdown",
   "id": "53119dec-a18a-4906-8ad6-813590d37580",
   "metadata": {},
   "source": [
    "#### hex() : 정수를 16진수로 리턴"
   ]
  },
  {
   "cell_type": "code",
   "execution_count": 39,
   "id": "928bcaf8-b3ff-4f20-a4bc-da5c06f80366",
   "metadata": {},
   "outputs": [
    {
     "name": "stdout",
     "output_type": "stream",
     "text": [
      "0xea\n",
      "0x3\n",
      "0xd\n"
     ]
    }
   ],
   "source": [
    "print(hex(234))\n",
    "print(hex(3))\n",
    "print(hex(13))"
   ]
  },
  {
   "cell_type": "markdown",
   "id": "e043efc2-6f2a-4b06-afa9-4c9146b943f1",
   "metadata": {},
   "source": [
    "#### id() 객체의 주소값 확인"
   ]
  },
  {
   "cell_type": "code",
   "execution_count": 40,
   "id": "4a840e1d-c620-4198-b32e-a424f23daf79",
   "metadata": {},
   "outputs": [],
   "source": [
    "a=3"
   ]
  },
  {
   "cell_type": "code",
   "execution_count": 41,
   "id": "f6d76915-48bb-4981-9897-e1fdc4ce0851",
   "metadata": {},
   "outputs": [
    {
     "data": {
      "text/plain": [
       "140708340151272"
      ]
     },
     "execution_count": 41,
     "metadata": {},
     "output_type": "execute_result"
    }
   ],
   "source": [
    "id(a)"
   ]
  },
  {
   "cell_type": "code",
   "execution_count": 42,
   "id": "867811b6-e4ab-44e2-b143-6c67774552c4",
   "metadata": {},
   "outputs": [
    {
     "data": {
      "text/plain": [
       "140708340151272"
      ]
     },
     "execution_count": 42,
     "metadata": {},
     "output_type": "execute_result"
    }
   ],
   "source": [
    "b=a\n",
    "id(b)"
   ]
  },
  {
   "cell_type": "markdown",
   "id": "ecc2c4bc-f9a0-4caa-9aa7-a64bbdab05b4",
   "metadata": {},
   "source": [
    "#### isinstance() :객체가 그클래스의 인스턴스인지 판단"
   ]
  },
  {
   "cell_type": "code",
   "execution_count": 43,
   "id": "6204dd24-6537-4aa5-904a-9eaaf6c250e5",
   "metadata": {},
   "outputs": [
    {
     "name": "stdout",
     "output_type": "stream",
     "text": [
      "True\n"
     ]
    }
   ],
   "source": [
    "class Person:pass\n",
    "\n",
    "a=Person() #a는 Person클래스로 생성된 객체 (인스턴스)\n",
    "print(isinstance(a,Person))"
   ]
  },
  {
   "cell_type": "code",
   "execution_count": 44,
   "id": "f1041389-ce68-4f2b-88f8-8d11bacf70e7",
   "metadata": {},
   "outputs": [
    {
     "data": {
      "text/plain": [
       "False"
      ]
     },
     "execution_count": 44,
     "metadata": {},
     "output_type": "execute_result"
    }
   ],
   "source": [
    "b=3\n",
    "isinstance(b, Person)"
   ]
  },
  {
   "cell_type": "markdown",
   "id": "8f620c08-81a6-4c4f-8b4c-68b6e12b5d91",
   "metadata": {},
   "source": [
    "#### max() 최대값 min() 최소값"
   ]
  },
  {
   "cell_type": "code",
   "execution_count": 47,
   "id": "6aba569b-4a1b-404f-8ddb-f597621bd9de",
   "metadata": {},
   "outputs": [
    {
     "name": "stdout",
     "output_type": "stream",
     "text": [
      "3\n",
      "y\n"
     ]
    }
   ],
   "source": [
    "print(max([1,2,3]))\n",
    "print(max(\"python\"))"
   ]
  },
  {
   "cell_type": "code",
   "execution_count": 48,
   "id": "a680fc32-8603-4dd5-9d3f-8d97df977724",
   "metadata": {},
   "outputs": [
    {
     "name": "stdout",
     "output_type": "stream",
     "text": [
      "1\n",
      "h\n"
     ]
    }
   ],
   "source": [
    "print(min([1,2,3]))\n",
    "print(min(\"python\"))"
   ]
  },
  {
   "cell_type": "markdown",
   "id": "cf7c9dc5-662f-47e6-9afc-e5b00d24f744",
   "metadata": {},
   "source": [
    "#### ord() :chr() 반대 문자를넣으면 유니코드 숫자값 리턴"
   ]
  },
  {
   "cell_type": "code",
   "execution_count": 50,
   "id": "3fb4367a-8280-4226-9551-4097ecaf9240",
   "metadata": {},
   "outputs": [
    {
     "name": "stdout",
     "output_type": "stream",
     "text": [
      "97\n",
      "65\n",
      "48\n"
     ]
    }
   ],
   "source": [
    "print(ord('a'))\n",
    "print(ord('A'))\n",
    "print(ord('0'))"
   ]
  },
  {
   "cell_type": "markdown",
   "id": "09ebcc6b-8148-4131-964d-949540880e67",
   "metadata": {},
   "source": [
    "#### range() : 범위 값을 반복 가능한 객체로 만들어 리턴"
   ]
  },
  {
   "cell_type": "code",
   "execution_count": 54,
   "id": "63a606fe-06f8-4506-8c88-3160b96c71c2",
   "metadata": {},
   "outputs": [
    {
     "data": {
      "text/plain": [
       "[0, 1, 2, 3, 4]"
      ]
     },
     "execution_count": 54,
     "metadata": {},
     "output_type": "execute_result"
    }
   ],
   "source": [
    "#인수가 하나일 경우\n",
    "list(range(5)) #시작 숫자를 지정해 주지 않으면 range 함수는 0부터 시작한다."
   ]
  },
  {
   "cell_type": "code",
   "execution_count": 53,
   "id": "86f30dd2-9e5b-416c-9ccf-b9cefb4cd677",
   "metadata": {},
   "outputs": [
    {
     "data": {
      "text/plain": [
       "[5, 6, 7, 8, 9]"
      ]
     },
     "execution_count": 53,
     "metadata": {},
     "output_type": "execute_result"
    }
   ],
   "source": [
    "#인수가 2개일 경우\n",
    "list(range(5, 10)) #끝 숫자는 해당 범위에 포함되지 않는다."
   ]
  },
  {
   "cell_type": "code",
   "execution_count": 55,
   "id": "4ec0cf4c-800d-4b26-a538-ec159d55ebb2",
   "metadata": {},
   "outputs": [
    {
     "data": {
      "text/plain": [
       "[1, 3, 5, 7, 9]"
      ]
     },
     "execution_count": 55,
     "metadata": {},
     "output_type": "execute_result"
    }
   ],
   "source": [
    "#인수가 3개일 경우\n",
    "list(range(1, 10, 2))"
   ]
  },
  {
   "cell_type": "code",
   "execution_count": 59,
   "id": "a346e5e0-52f7-4221-b2b4-3c80a53fd210",
   "metadata": {},
   "outputs": [
    {
     "data": {
      "text/plain": [
       "[0, -2, -4, -6, -8]"
      ]
     },
     "execution_count": 59,
     "metadata": {},
     "output_type": "execute_result"
    }
   ],
   "source": [
    "list(range(0, -10, -2)) #### 세 번째 인수는 숫자 사이의 거리를 말한다."
   ]
  },
  {
   "cell_type": "code",
   "execution_count": null,
   "id": "b8b82a85-96c2-4304-a1aa-48001ce2b2a8",
   "metadata": {},
   "outputs": [],
   "source": []
  }
 ],
 "metadata": {
  "kernelspec": {
   "display_name": "Python 3 (ipykernel)",
   "language": "python",
   "name": "python3"
  },
  "language_info": {
   "codemirror_mode": {
    "name": "ipython",
    "version": 3
   },
   "file_extension": ".py",
   "mimetype": "text/x-python",
   "name": "python",
   "nbconvert_exporter": "python",
   "pygments_lexer": "ipython3",
   "version": "3.13.5"
  }
 },
 "nbformat": 4,
 "nbformat_minor": 5
}
