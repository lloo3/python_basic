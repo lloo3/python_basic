{
 "cells": [
  {
   "cell_type": "markdown",
   "id": "5a941899-0add-4d0a-b8c1-5eeb4b9c54a0",
   "metadata": {},
   "source": [
    "## 1.사용자 입출력"
   ]
  },
  {
   "cell_type": "markdown",
   "id": "82a58c36-88f6-411b-a74e-c50a8860f128",
   "metadata": {},
   "source": [
    "### 1)사용자 입력"
   ]
  },
  {
   "cell_type": "code",
   "execution_count": 2,
   "id": "a5562680-f1a9-44b5-b791-a54a8c7064b5",
   "metadata": {},
   "outputs": [
    {
     "name": "stdin",
     "output_type": "stream",
     "text": [
      " Life is too short, you need python\n"
     ]
    }
   ],
   "source": [
    "a = input()"
   ]
  },
  {
   "cell_type": "code",
   "execution_count": 3,
   "id": "151db343-3c97-40a9-adbf-262f0e9ce036",
   "metadata": {},
   "outputs": [
    {
     "name": "stdout",
     "output_type": "stream",
     "text": [
      "Life is too short, you need python\n"
     ]
    }
   ],
   "source": [
    "print(a)"
   ]
  },
  {
   "cell_type": "code",
   "execution_count": 4,
   "id": "1470468e-ba56-4384-a7d6-5adf812dba1e",
   "metadata": {},
   "outputs": [
    {
     "name": "stdin",
     "output_type": "stream",
     "text": [
      " 3\n"
     ]
    }
   ],
   "source": [
    "num = input()"
   ]
  },
  {
   "cell_type": "code",
   "execution_count": 5,
   "id": "e71f2b48-0855-40fa-b88e-4abcfc70b9b1",
   "metadata": {},
   "outputs": [
    {
     "name": "stdout",
     "output_type": "stream",
     "text": [
      "3\n"
     ]
    }
   ],
   "source": [
    "print(num)"
   ]
  },
  {
   "cell_type": "code",
   "execution_count": 6,
   "id": "8045d208-9b12-49f6-96b5-931bc75ce2f9",
   "metadata": {},
   "outputs": [
    {
     "data": {
      "text/plain": [
       "str"
      ]
     },
     "execution_count": 6,
     "metadata": {},
     "output_type": "execute_result"
    }
   ],
   "source": [
    "type(num)"
   ]
  },
  {
   "cell_type": "markdown",
   "id": "b4db9ff9-3aa4-429d-a1ea-4e0ceee17167",
   "metadata": {},
   "source": [
    "### 2)print() 자세히 알기"
   ]
  },
  {
   "cell_type": "code",
   "execution_count": 7,
   "id": "59b93bdd-0313-4990-8c81-e58400e0f118",
   "metadata": {},
   "outputs": [
    {
     "name": "stdout",
     "output_type": "stream",
     "text": [
      "123\n"
     ]
    }
   ],
   "source": [
    "a=123\n",
    "print(a)"
   ]
  },
  {
   "cell_type": "code",
   "execution_count": 8,
   "id": "0a42ea35-1360-473b-ac92-a9d5d2beb119",
   "metadata": {},
   "outputs": [
    {
     "name": "stdout",
     "output_type": "stream",
     "text": [
      "python\n"
     ]
    }
   ],
   "source": [
    "a=\"python\"\n",
    "print(a)"
   ]
  },
  {
   "cell_type": "code",
   "execution_count": 9,
   "id": "8c1c882f-d7ee-4019-80d9-a546a8b7b738",
   "metadata": {},
   "outputs": [
    {
     "name": "stdout",
     "output_type": "stream",
     "text": [
      "[1, 2, 3]\n"
     ]
    }
   ],
   "source": [
    "a=[1,2,3]\n",
    "print(a)"
   ]
  },
  {
   "cell_type": "code",
   "execution_count": 10,
   "id": "a28d0a0a-0667-495f-9b21-4819fb6f81b5",
   "metadata": {},
   "outputs": [
    {
     "name": "stdout",
     "output_type": "stream",
     "text": [
      "life is too short\n",
      "life is too short\n"
     ]
    }
   ],
   "source": [
    "#문자열과 + 연산 \n",
    "print(\"life\", \"is\", \"too short\")\n",
    "print('life', 'is', 'too short')"
   ]
  },
  {
   "cell_type": "code",
   "execution_count": 11,
   "id": "f538cdeb-35e1-466b-a15b-2ddd08b7f853",
   "metadata": {},
   "outputs": [
    {
     "name": "stdout",
     "output_type": "stream",
     "text": [
      "life is too short\n"
     ]
    }
   ],
   "source": [
    "#문자열 띄어쓰기는 쉼표로\n",
    "print(\"life\", \"is\", \"too short\")"
   ]
  },
  {
   "cell_type": "code",
   "execution_count": 14,
   "id": "32ae00e2-0d5e-4ed1-93fd-ab4f29f5f07a",
   "metadata": {},
   "outputs": [
    {
     "name": "stdout",
     "output_type": "stream",
     "text": [
      "0\n",
      "1\n",
      "2\n",
      "3\n",
      "4\n",
      "5\n",
      "6\n",
      "7\n",
      "8\n",
      "9\n"
     ]
    }
   ],
   "source": [
    "#한 줄에 결과 값 출력하기\n",
    "for i in range(10):\n",
    "    print(i)"
   ]
  },
  {
   "cell_type": "code",
   "execution_count": 13,
   "id": "12542966-7e6c-4409-9ff0-aeea126f3451",
   "metadata": {},
   "outputs": [
    {
     "name": "stdout",
     "output_type": "stream",
     "text": [
      "0 1 2 3 4 5 6 7 8 9 "
     ]
    }
   ],
   "source": [
    "for i in range(10):\n",
    "    print(i,end=\" \")"
   ]
  },
  {
   "cell_type": "markdown",
   "id": "cb686b26-3c6c-4519-b722-68ff8874471a",
   "metadata": {},
   "source": [
    "## 2. 파일 읽고 쓰기"
   ]
  },
  {
   "cell_type": "markdown",
   "id": "63ee89a3-4acf-48f2-bd28-4ccf3091163f",
   "metadata": {},
   "source": [
    "### 1)파일 생성하기"
   ]
  },
  {
   "cell_type": "code",
   "execution_count": 15,
   "id": "9ccc77b3-ad69-4913-97fe-84e766ffcf5d",
   "metadata": {},
   "outputs": [],
   "source": [
    "f=open('newfile.txt','w')"
   ]
  },
  {
   "cell_type": "code",
   "execution_count": 16,
   "id": "f53e213e-50e3-4c3b-9d7e-301efeda0c35",
   "metadata": {},
   "outputs": [],
   "source": [
    "f.close()"
   ]
  },
  {
   "cell_type": "code",
   "execution_count": 18,
   "id": "14b60390-1c1c-46ab-92a2-e4c7a411bd2e",
   "metadata": {},
   "outputs": [],
   "source": [
    "#특정 경로에 파일 생성\n",
    "f =open('C:\\\\Users\\\\WD\\\\python_basic\\\\newfile2.txt','w')"
   ]
  },
  {
   "cell_type": "code",
   "execution_count": null,
   "id": "39d04113-905f-48c8-af05-2e8e4bd8f30b",
   "metadata": {},
   "outputs": [],
   "source": [
    "f.close()"
   ]
  },
  {
   "cell_type": "markdown",
   "id": "0687acae-0ddd-4697-8f16-b7f06ae262d7",
   "metadata": {},
   "source": [
    "### 2) 파일을 쓰기 모드로 열어 내용 쓰기"
   ]
  },
  {
   "cell_type": "code",
   "execution_count": 25,
   "id": "8a5c4d8e-6639-41e7-9727-c200f33a1684",
   "metadata": {},
   "outputs": [],
   "source": [
    "f = open(\"newfile.txt\", 'w')\n",
    "for i in range(1, 11):\n",
    "    data = f\"{i}번째 줄입니다.\\n\"\n",
    "    f.write(data)\n",
    "f.close()"
   ]
  },
  {
   "cell_type": "markdown",
   "id": "7bd51ad3-806a-4eca-847a-0f0ea8b2a777",
   "metadata": {},
   "source": [
    "### 3) 파일을 읽는 여러가지 방법"
   ]
  },
  {
   "cell_type": "code",
   "execution_count": 26,
   "id": "c0ff3168-3dcd-4774-84d6-3e997a585d1b",
   "metadata": {},
   "outputs": [
    {
     "name": "stdout",
     "output_type": "stream",
     "text": [
      "1번째 줄입니다.\n",
      "\n"
     ]
    }
   ],
   "source": [
    "f=open('newfile.txt','r')\n",
    "line = f.readline()\n",
    "print(line)\n",
    "f.close()"
   ]
  },
  {
   "cell_type": "code",
   "execution_count": 27,
   "id": "63ef7000-485f-4b50-99f8-7bd593f92f93",
   "metadata": {},
   "outputs": [
    {
     "name": "stdout",
     "output_type": "stream",
     "text": [
      "1번째 줄입니다.\n",
      "\n",
      "2번째 줄입니다.\n",
      "\n",
      "3번째 줄입니다.\n",
      "\n",
      "4번째 줄입니다.\n",
      "\n",
      "5번째 줄입니다.\n",
      "\n",
      "6번째 줄입니다.\n",
      "\n",
      "7번째 줄입니다.\n",
      "\n",
      "8번째 줄입니다.\n",
      "\n",
      "9번째 줄입니다.\n",
      "\n",
      "10번째 줄입니다.\n",
      "\n"
     ]
    }
   ],
   "source": [
    "#readline 함수 이용하여 여러줄 읽기\n",
    "\n",
    "f = open(\"newfile.txt\", 'r')\n",
    "while True:\n",
    "    line = f.readline()\n",
    "    if not line: break\n",
    "    print(line)\n",
    "f.close()"
   ]
  },
  {
   "cell_type": "code",
   "execution_count": null,
   "id": "13354ad8-309b-4b85-9d60-73a8d44e3356",
   "metadata": {},
   "outputs": [],
   "source": [
    "#사용자의 입력을 받아 여러줄 출력하기\n",
    "while True:\n",
    "\n",
    "    data = input()\n",
    "\n",
    "    if not data: break\n",
    "\n",
    "    print(data)"
   ]
  },
  {
   "cell_type": "code",
   "execution_count": null,
   "id": "0b6e7065-c999-49e2-896d-98ba6bd27782",
   "metadata": {},
   "outputs": [],
   "source": [
    "# 줄바꿈(\\n) 문자 제거하기\n",
    "\n",
    "f = open(\"newfile.txt\", 'r')\n",
    "lines = f.readlines()\n",
    "for line in lines:\n",
    "     line = line.strip()\n",
    "    print(line)\n",
    "f.close()"
   ]
  },
  {
   "cell_type": "code",
   "execution_count": null,
   "id": "dfc16f22-d801-4b0b-90b5-db01ac137de9",
   "metadata": {},
   "outputs": [],
   "source": [
    "#read함수로 파일 전체 내용 읽기\n",
    "f=open('newfile.txt','r')\n",
    "data=f.read()\n",
    "print(data)\n",
    "f.close()"
   ]
  },
  {
   "cell_type": "code",
   "execution_count": null,
   "id": "a0887b63-f212-4eeb-a155-8cab43404ea8",
   "metadata": {},
   "outputs": [],
   "source": [
    "#파일 객체를 for문으로 줄단위로 읽기\n",
    "\n",
    "f = open(\"newfile.txt\", 'r')\n",
    "for line in f:\n",
    "    print(line)\n",
    "f.close()"
   ]
  },
  {
   "cell_type": "markdown",
   "id": "d90c3732-25c1-4892-91a7-7e4f4b6ddcf3",
   "metadata": {},
   "source": [
    "### 4)파일에 새로운 내용 추가하기"
   ]
  },
  {
   "cell_type": "code",
   "execution_count": 29,
   "id": "1147ceb3-5c1d-4a9a-9cbc-d2e4b27101b7",
   "metadata": {},
   "outputs": [],
   "source": [
    "f=open('newfile.txt','a')\n",
    "for i in range(11,20):\n",
    "    data=f\"{i}번째 줄을 추가합니다.\\n\"\n",
    "    f.write(data)\n",
    "f.close()"
   ]
  },
  {
   "cell_type": "markdown",
   "id": "17f125c9-8e6b-4746-9711-60ca4f4bb310",
   "metadata": {},
   "source": [
    "### 5)with문과 함께 사용하기"
   ]
  },
  {
   "cell_type": "code",
   "execution_count": 30,
   "id": "cd75fd17-177d-450b-a948-71073dca8834",
   "metadata": {},
   "outputs": [],
   "source": [
    "with open(\"foo.txt\", \"w\") as f:\n",
    "    f.write(\"Life is too short, you need python\")"
   ]
  },
  {
   "cell_type": "code",
   "execution_count": null,
   "id": "16480375-c667-4dee-8378-40bbe09c9086",
   "metadata": {},
   "outputs": [],
   "source": [
    "f = open(\"newfile.txt\", 'r')\n",
    "line = f.readline()\n",
    "print(line)\n",
    "f.close()"
   ]
  },
  {
   "cell_type": "code",
   "execution_count": null,
   "id": "40ab2cae-159a-4ac2-86cc-3775de9993c6",
   "metadata": {},
   "outputs": [],
   "source": [
    "f = open(\"newfile.txt\", 'w')\n",
    "\n",
    "f.close()"
   ]
  },
  {
   "cell_type": "code",
   "execution_count": null,
   "id": "d48dab47-9456-4b2a-aec6-93984e1a63a6",
   "metadata": {},
   "outputs": [],
   "source": []
  }
 ],
 "metadata": {
  "kernelspec": {
   "display_name": "Python 3 (ipykernel)",
   "language": "python",
   "name": "python3"
  },
  "language_info": {
   "codemirror_mode": {
    "name": "ipython",
    "version": 3
   },
   "file_extension": ".py",
   "mimetype": "text/x-python",
   "name": "python",
   "nbconvert_exporter": "python",
   "pygments_lexer": "ipython3",
   "version": "3.13.5"
  }
 },
 "nbformat": 4,
 "nbformat_minor": 5
}
