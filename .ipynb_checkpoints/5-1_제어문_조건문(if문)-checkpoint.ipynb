{
 "cells": [
  {
   "cell_type": "markdown",
   "id": "8361d691-7d15-4afb-ab36-9ddd58833b69",
   "metadata": {},
   "source": [
    "## 1. if문의 기본 구조"
   ]
  },
  {
   "cell_type": "code",
   "execution_count": 1,
   "id": "a26e8bea-126b-4c3c-ab4f-255fc35c9d70",
   "metadata": {},
   "outputs": [
    {
     "ename": "IndentationError",
     "evalue": "unexpected indent (2203290924.py, line 5)",
     "output_type": "error",
     "traceback": [
      "\u001b[1;36m  Cell \u001b[1;32mIn[1], line 5\u001b[1;36m\u001b[0m\n\u001b[1;33m    print(\"가라\")\u001b[0m\n\u001b[1;37m    ^\u001b[0m\n\u001b[1;31mIndentationError\u001b[0m\u001b[1;31m:\u001b[0m unexpected indent\n"
     ]
    }
   ],
   "source": [
    "money=True\n",
    "if money:\n",
    "    print(\"택시를\")\n",
    "print(\"타고\")\n",
    "    print(\"가라\")"
   ]
  },
  {
   "cell_type": "code",
   "execution_count": 2,
   "id": "1a8d4963-7ce0-4281-87aa-ecf922e69d10",
   "metadata": {},
   "outputs": [
    {
     "name": "stdout",
     "output_type": "stream",
     "text": [
      "타고\n"
     ]
    }
   ],
   "source": [
    "money=False\n",
    "if money:\n",
    "    print(\"택시를\")\n",
    "print(\"타고\")"
   ]
  },
  {
   "cell_type": "code",
   "execution_count": 3,
   "id": "02a6c08e-ac15-4d0d-8dac-e4617175ddd1",
   "metadata": {},
   "outputs": [
    {
     "name": "stdout",
     "output_type": "stream",
     "text": [
      "택시를\n",
      "타고\n"
     ]
    }
   ],
   "source": [
    "money=True\n",
    "if money:\n",
    "    print(\"택시를\")\n",
    "    print(\"타고\")"
   ]
  },
  {
   "cell_type": "code",
   "execution_count": 4,
   "id": "8a2a5b58-4737-4902-8631-20ed22c1c501",
   "metadata": {},
   "outputs": [],
   "source": [
    "money=False\n",
    "if money:\n",
    "    print(\"택시를\")\n",
    "    print(\"타고\")"
   ]
  },
  {
   "cell_type": "markdown",
   "id": "fb2b8fbd-603f-494a-ad58-b53e33e7241e",
   "metadata": {},
   "source": [
    "## 2. 연산자"
   ]
  },
  {
   "cell_type": "code",
   "execution_count": 6,
   "id": "f84ff69f-a080-4b9e-a20c-5c3f3348bb30",
   "metadata": {},
   "outputs": [
    {
     "name": "stdout",
     "output_type": "stream",
     "text": [
      "True\n",
      "False\n",
      "False\n",
      "True\n"
     ]
    }
   ],
   "source": [
    "#비교 연산자\n",
    "x=3\n",
    "y=2\n",
    "print(x>y)\n",
    "print(x<y)\n",
    "print(x==y)\n",
    "print(x!=y)"
   ]
  },
  {
   "cell_type": "code",
   "execution_count": 10,
   "id": "a52dcf8d-2531-4bf9-9f95-5b1b99972ae1",
   "metadata": {},
   "outputs": [
    {
     "name": "stdout",
     "output_type": "stream",
     "text": [
      "걸어가라\n"
     ]
    }
   ],
   "source": [
    "money=2999\n",
    "if money>=3000:\n",
    "    print(\"택시를 타고 가라\")\n",
    "else:\n",
    "    print(\"걸어가라\")"
   ]
  },
  {
   "cell_type": "code",
   "execution_count": 13,
   "id": "5156de2b-32d5-4777-bd8d-2d9f0c92a2d2",
   "metadata": {},
   "outputs": [
    {
     "name": "stdout",
     "output_type": "stream",
     "text": [
      "걸어가라\n"
     ]
    }
   ],
   "source": [
    "#논리 연산자\n",
    "#조건식 x,y -> and 둘다 True일때 True\n",
    "#              or  하나만 True 여도 True\n",
    "#             not = 반대 True=False, False=True\n",
    "\n",
    "\n",
    "money=2999\n",
    "card=False\n",
    "\n",
    "if money>=3000 or card:\n",
    "    print(\"택시를 타고 가라\")\n",
    "else:\n",
    "    print(\"걸어가라\")"
   ]
  },
  {
   "cell_type": "code",
   "execution_count": 14,
   "id": "76c195a0-6310-4f32-92e1-9e38e3932c0d",
   "metadata": {},
   "outputs": [
    {
     "data": {
      "text/plain": [
       "True"
      ]
     },
     "execution_count": 14,
     "metadata": {},
     "output_type": "execute_result"
    }
   ],
   "source": [
    "#in,not in (안에 있는지 여부)\n",
    "1 in [1,2,3]\n"
   ]
  },
  {
   "cell_type": "code",
   "execution_count": 15,
   "id": "36df52da-f6be-4fb4-b882-7cd858ee4721",
   "metadata": {},
   "outputs": [
    {
     "data": {
      "text/plain": [
       "False"
      ]
     },
     "execution_count": 15,
     "metadata": {},
     "output_type": "execute_result"
    }
   ],
   "source": [
    "1 not in[1,2,3]"
   ]
  },
  {
   "cell_type": "code",
   "execution_count": 16,
   "id": "7fd1061c-9007-4a63-a808-4d7a4bcc50a3",
   "metadata": {},
   "outputs": [
    {
     "data": {
      "text/plain": [
       "True"
      ]
     },
     "execution_count": 16,
     "metadata": {},
     "output_type": "execute_result"
    }
   ],
   "source": [
    "'a' in ('a','b','c')"
   ]
  },
  {
   "cell_type": "code",
   "execution_count": 17,
   "id": "aee136ff-96f2-4bb6-863e-7d9863423338",
   "metadata": {},
   "outputs": [
    {
     "data": {
      "text/plain": [
       "False"
      ]
     },
     "execution_count": 17,
     "metadata": {},
     "output_type": "execute_result"
    }
   ],
   "source": [
    "'a' not in ('a','b','c')"
   ]
  },
  {
   "cell_type": "code",
   "execution_count": 18,
   "id": "76fb7075-2f41-4ec5-9c68-c4e3ca18fe8e",
   "metadata": {},
   "outputs": [
    {
     "data": {
      "text/plain": [
       "True"
      ]
     },
     "execution_count": 18,
     "metadata": {},
     "output_type": "execute_result"
    }
   ],
   "source": [
    "'d' not in ('a','b','c')"
   ]
  },
  {
   "cell_type": "code",
   "execution_count": 19,
   "id": "a1fa914c-c6bb-4af6-b90a-f2429287c403",
   "metadata": {},
   "outputs": [
    {
     "name": "stdout",
     "output_type": "stream",
     "text": [
      "택시 타고가\n"
     ]
    }
   ],
   "source": [
    "pocket =['paper','cellphone','money']\n",
    "\n",
    "if 'money' in pocket:\n",
    "    print(\"택시 타고가\")\n",
    "else:\n",
    "    print(\"걸어가\")"
   ]
  },
  {
   "cell_type": "code",
   "execution_count": 24,
   "id": "59501b8b-463d-465e-9014-424a2e1f7d47",
   "metadata": {},
   "outputs": [
    {
     "name": "stdout",
     "output_type": "stream",
     "text": [
      "택시타고가\n"
     ]
    }
   ],
   "source": [
    "# pass : 실행문 실행X 넘어가기\n",
    "\n",
    "pocket =['paper','cellphone','money']\n",
    "\n",
    "if 'money' in pocket:\n",
    "    pass\n",
    "    print(\"택시타고가\")\n",
    "else:\n",
    "    print(\"카드꺼내\")\n"
   ]
  },
  {
   "cell_type": "markdown",
   "id": "d34f3dd6-5042-4554-979a-06d39dcad9e8",
   "metadata": {},
   "source": [
    "## 3. 다양한 조건을 판단하는 elif"
   ]
  },
  {
   "cell_type": "code",
   "execution_count": 25,
   "id": "73b62c21-eda3-460b-96ba-5081855cca32",
   "metadata": {},
   "outputs": [
    {
     "name": "stdout",
     "output_type": "stream",
     "text": [
      "택시타\n"
     ]
    }
   ],
   "source": [
    "#if,else 만으로 표현\n",
    "pocket =['paper','cellphone']\n",
    "card=True\n",
    "\n",
    "if 'money' in pocket:\n",
    "    print(\"택시타\")\n",
    "else:\n",
    "    if card:\n",
    "        print(\"택시타\")\n",
    "    else:\n",
    "        print(\"걸어가\")"
   ]
  },
  {
   "cell_type": "code",
   "execution_count": 27,
   "id": "63627a62-7b8b-4e63-b36b-6f032722a94b",
   "metadata": {},
   "outputs": [
    {
     "name": "stdout",
     "output_type": "stream",
     "text": [
      "카드로 택시타\n"
     ]
    }
   ],
   "source": [
    "#elif를 사용\n",
    "pocket =['paper','cellphone']\n",
    "card=True\n",
    "\n",
    "if 'money' in pocket:\n",
    "    print(\"택시타\")\n",
    "elif card:\n",
    "    print(\"카드로 택시타\")\n",
    "else:\n",
    "     print(\"걸어가\")"
   ]
  },
  {
   "cell_type": "code",
   "execution_count": 28,
   "id": "1f43dd24-843c-4076-8b13-ee1c2a9d0ce6",
   "metadata": {},
   "outputs": [
    {
     "name": "stdout",
     "output_type": "stream",
     "text": [
      "d\n"
     ]
    }
   ],
   "source": [
    "math=60\n",
    "\n",
    "if math>=90:\n",
    "    print('a')\n",
    "elif math>=80:\n",
    "    print('b')\n",
    "elif math>=70:\n",
    "    print('c')\n",
    "elif math>=60:\n",
    "    print('d')\n",
    "else:\n",
    "    print('e')"
   ]
  },
  {
   "cell_type": "code",
   "execution_count": 33,
   "id": "e3e4617d-48ea-471c-9139-19e650d1d1ac",
   "metadata": {},
   "outputs": [
    {
     "name": "stdout",
     "output_type": "stream",
     "text": [
      "카드꺼내\n"
     ]
    }
   ],
   "source": [
    "#if문 한 줄로 작성하기\n",
    "pocket=['paper','cellphone']\n",
    "\n",
    "if 'money' in pocket:pass\n",
    "else:print(\"카드꺼내\")"
   ]
  },
  {
   "cell_type": "markdown",
   "id": "7c3f9ffc-4cee-4bba-9d9f-d2ff65eca793",
   "metadata": {},
   "source": [
    "## 4.조건부 표현식"
   ]
  },
  {
   "cell_type": "code",
   "execution_count": 35,
   "id": "4b5be05e-56b3-48ca-89f8-498fdacf2f38",
   "metadata": {},
   "outputs": [
    {
     "name": "stdout",
     "output_type": "stream",
     "text": [
      "success\n"
     ]
    }
   ],
   "source": [
    "#if / else 문\n",
    "\n",
    "score=90\n",
    "\n",
    "if score >=60:\n",
    "    message=\"success\"\n",
    "else:\n",
    "    message=\"failure\"\n",
    "print(message)"
   ]
  },
  {
   "cell_type": "code",
   "execution_count": 40,
   "id": "f78f11ae-976a-4fda-a07f-941693f707fd",
   "metadata": {},
   "outputs": [
    {
     "name": "stdout",
     "output_type": "stream",
     "text": [
      "failure\n"
     ]
    }
   ],
   "source": [
    "# 조건부 표현식\n",
    "\n",
    "message=\"success\" if score >=95 else \"failure\"\n",
    "print(message)"
   ]
  },
  {
   "cell_type": "code",
   "execution_count": null,
   "id": "d645fae2-8391-4add-9427-0b1203f3147b",
   "metadata": {},
   "outputs": [],
   "source": []
  }
 ],
 "metadata": {
  "kernelspec": {
   "display_name": "Python 3 (ipykernel)",
   "language": "python",
   "name": "python3"
  },
  "language_info": {
   "codemirror_mode": {
    "name": "ipython",
    "version": 3
   },
   "file_extension": ".py",
   "mimetype": "text/x-python",
   "name": "python",
   "nbconvert_exporter": "python",
   "pygments_lexer": "ipython3",
   "version": "3.13.5"
  }
 },
 "nbformat": 4,
 "nbformat_minor": 5
}
